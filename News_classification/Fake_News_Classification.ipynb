{
 "cells": [
  {
   "cell_type": "code",
   "execution_count": 20,
   "metadata": {},
   "outputs": [],
   "source": [
    "#Pre Process Data"
   ]
  },
  {
   "cell_type": "code",
   "execution_count": 1,
   "metadata": {},
   "outputs": [],
   "source": [
    "\n",
    "import pandas as pd"
   ]
  },
  {
   "cell_type": "code",
   "execution_count": 3,
   "metadata": {},
   "outputs": [
    {
     "data": {
      "text/html": [
       "<div>\n",
       "<style scoped>\n",
       "    .dataframe tbody tr th:only-of-type {\n",
       "        vertical-align: middle;\n",
       "    }\n",
       "\n",
       "    .dataframe tbody tr th {\n",
       "        vertical-align: top;\n",
       "    }\n",
       "\n",
       "    .dataframe thead th {\n",
       "        text-align: right;\n",
       "    }\n",
       "</style>\n",
       "<table border=\"1\" class=\"dataframe\">\n",
       "  <thead>\n",
       "    <tr style=\"text-align: right;\">\n",
       "      <th></th>\n",
       "      <th>id</th>\n",
       "      <th>title</th>\n",
       "      <th>author</th>\n",
       "      <th>text</th>\n",
       "      <th>label</th>\n",
       "    </tr>\n",
       "  </thead>\n",
       "  <tbody>\n",
       "    <tr>\n",
       "      <th>0</th>\n",
       "      <td>0</td>\n",
       "      <td>House Dem Aide: We Didn’t Even See Comey’s Let...</td>\n",
       "      <td>Darrell Lucus</td>\n",
       "      <td>House Dem Aide: We Didn’t Even See Comey’s Let...</td>\n",
       "      <td>1</td>\n",
       "    </tr>\n",
       "    <tr>\n",
       "      <th>1</th>\n",
       "      <td>1</td>\n",
       "      <td>FLYNN: Hillary Clinton, Big Woman on Campus - ...</td>\n",
       "      <td>Daniel J. Flynn</td>\n",
       "      <td>Ever get the feeling your life circles the rou...</td>\n",
       "      <td>0</td>\n",
       "    </tr>\n",
       "    <tr>\n",
       "      <th>2</th>\n",
       "      <td>2</td>\n",
       "      <td>Why the Truth Might Get You Fired</td>\n",
       "      <td>Consortiumnews.com</td>\n",
       "      <td>Why the Truth Might Get You Fired October 29, ...</td>\n",
       "      <td>1</td>\n",
       "    </tr>\n",
       "    <tr>\n",
       "      <th>3</th>\n",
       "      <td>3</td>\n",
       "      <td>15 Civilians Killed In Single US Airstrike Hav...</td>\n",
       "      <td>Jessica Purkiss</td>\n",
       "      <td>Videos 15 Civilians Killed In Single US Airstr...</td>\n",
       "      <td>1</td>\n",
       "    </tr>\n",
       "    <tr>\n",
       "      <th>4</th>\n",
       "      <td>4</td>\n",
       "      <td>Iranian woman jailed for fictional unpublished...</td>\n",
       "      <td>Howard Portnoy</td>\n",
       "      <td>Print \\nAn Iranian woman has been sentenced to...</td>\n",
       "      <td>1</td>\n",
       "    </tr>\n",
       "    <tr>\n",
       "      <th>...</th>\n",
       "      <td>...</td>\n",
       "      <td>...</td>\n",
       "      <td>...</td>\n",
       "      <td>...</td>\n",
       "      <td>...</td>\n",
       "    </tr>\n",
       "    <tr>\n",
       "      <th>20795</th>\n",
       "      <td>20795</td>\n",
       "      <td>Rapper T.I.: Trump a ’Poster Child For White S...</td>\n",
       "      <td>Jerome Hudson</td>\n",
       "      <td>Rapper T. I. unloaded on black celebrities who...</td>\n",
       "      <td>0</td>\n",
       "    </tr>\n",
       "    <tr>\n",
       "      <th>20796</th>\n",
       "      <td>20796</td>\n",
       "      <td>N.F.L. Playoffs: Schedule, Matchups and Odds -...</td>\n",
       "      <td>Benjamin Hoffman</td>\n",
       "      <td>When the Green Bay Packers lost to the Washing...</td>\n",
       "      <td>0</td>\n",
       "    </tr>\n",
       "    <tr>\n",
       "      <th>20797</th>\n",
       "      <td>20797</td>\n",
       "      <td>Macy’s Is Said to Receive Takeover Approach by...</td>\n",
       "      <td>Michael J. de la Merced and Rachel Abrams</td>\n",
       "      <td>The Macy’s of today grew from the union of sev...</td>\n",
       "      <td>0</td>\n",
       "    </tr>\n",
       "    <tr>\n",
       "      <th>20798</th>\n",
       "      <td>20798</td>\n",
       "      <td>NATO, Russia To Hold Parallel Exercises In Bal...</td>\n",
       "      <td>Alex Ansary</td>\n",
       "      <td>NATO, Russia To Hold Parallel Exercises In Bal...</td>\n",
       "      <td>1</td>\n",
       "    </tr>\n",
       "    <tr>\n",
       "      <th>20799</th>\n",
       "      <td>20799</td>\n",
       "      <td>What Keeps the F-35 Alive</td>\n",
       "      <td>David Swanson</td>\n",
       "      <td>David Swanson is an author, activist, journa...</td>\n",
       "      <td>1</td>\n",
       "    </tr>\n",
       "  </tbody>\n",
       "</table>\n",
       "<p>20800 rows × 5 columns</p>\n",
       "</div>"
      ],
      "text/plain": [
       "          id                                              title  \\\n",
       "0          0  House Dem Aide: We Didn’t Even See Comey’s Let...   \n",
       "1          1  FLYNN: Hillary Clinton, Big Woman on Campus - ...   \n",
       "2          2                  Why the Truth Might Get You Fired   \n",
       "3          3  15 Civilians Killed In Single US Airstrike Hav...   \n",
       "4          4  Iranian woman jailed for fictional unpublished...   \n",
       "...      ...                                                ...   \n",
       "20795  20795  Rapper T.I.: Trump a ’Poster Child For White S...   \n",
       "20796  20796  N.F.L. Playoffs: Schedule, Matchups and Odds -...   \n",
       "20797  20797  Macy’s Is Said to Receive Takeover Approach by...   \n",
       "20798  20798  NATO, Russia To Hold Parallel Exercises In Bal...   \n",
       "20799  20799                          What Keeps the F-35 Alive   \n",
       "\n",
       "                                          author  \\\n",
       "0                                  Darrell Lucus   \n",
       "1                                Daniel J. Flynn   \n",
       "2                             Consortiumnews.com   \n",
       "3                                Jessica Purkiss   \n",
       "4                                 Howard Portnoy   \n",
       "...                                          ...   \n",
       "20795                              Jerome Hudson   \n",
       "20796                           Benjamin Hoffman   \n",
       "20797  Michael J. de la Merced and Rachel Abrams   \n",
       "20798                                Alex Ansary   \n",
       "20799                              David Swanson   \n",
       "\n",
       "                                                    text  label  \n",
       "0      House Dem Aide: We Didn’t Even See Comey’s Let...      1  \n",
       "1      Ever get the feeling your life circles the rou...      0  \n",
       "2      Why the Truth Might Get You Fired October 29, ...      1  \n",
       "3      Videos 15 Civilians Killed In Single US Airstr...      1  \n",
       "4      Print \\nAn Iranian woman has been sentenced to...      1  \n",
       "...                                                  ...    ...  \n",
       "20795  Rapper T. I. unloaded on black celebrities who...      0  \n",
       "20796  When the Green Bay Packers lost to the Washing...      0  \n",
       "20797  The Macy’s of today grew from the union of sev...      0  \n",
       "20798  NATO, Russia To Hold Parallel Exercises In Bal...      1  \n",
       "20799    David Swanson is an author, activist, journa...      1  \n",
       "\n",
       "[20800 rows x 5 columns]"
      ]
     },
     "execution_count": 3,
     "metadata": {},
     "output_type": "execute_result"
    }
   ],
   "source": [
    "df=pd.read_csv(\"train.csv\")\n",
    "df"
   ]
  },
  {
   "cell_type": "code",
   "execution_count": 4,
   "metadata": {},
   "outputs": [
    {
     "data": {
      "text/html": [
       "<div>\n",
       "<style scoped>\n",
       "    .dataframe tbody tr th:only-of-type {\n",
       "        vertical-align: middle;\n",
       "    }\n",
       "\n",
       "    .dataframe tbody tr th {\n",
       "        vertical-align: top;\n",
       "    }\n",
       "\n",
       "    .dataframe thead th {\n",
       "        text-align: right;\n",
       "    }\n",
       "</style>\n",
       "<table border=\"1\" class=\"dataframe\">\n",
       "  <thead>\n",
       "    <tr style=\"text-align: right;\">\n",
       "      <th></th>\n",
       "      <th>id</th>\n",
       "      <th>title</th>\n",
       "      <th>author</th>\n",
       "      <th>text</th>\n",
       "      <th>label</th>\n",
       "    </tr>\n",
       "  </thead>\n",
       "  <tbody>\n",
       "    <tr>\n",
       "      <th>0</th>\n",
       "      <td>0</td>\n",
       "      <td>House Dem Aide: We Didn’t Even See Comey’s Let...</td>\n",
       "      <td>Darrell Lucus</td>\n",
       "      <td>House Dem Aide: We Didn’t Even See Comey’s Let...</td>\n",
       "      <td>1</td>\n",
       "    </tr>\n",
       "    <tr>\n",
       "      <th>1</th>\n",
       "      <td>1</td>\n",
       "      <td>FLYNN: Hillary Clinton, Big Woman on Campus - ...</td>\n",
       "      <td>Daniel J. Flynn</td>\n",
       "      <td>Ever get the feeling your life circles the rou...</td>\n",
       "      <td>0</td>\n",
       "    </tr>\n",
       "    <tr>\n",
       "      <th>2</th>\n",
       "      <td>2</td>\n",
       "      <td>Why the Truth Might Get You Fired</td>\n",
       "      <td>Consortiumnews.com</td>\n",
       "      <td>Why the Truth Might Get You Fired October 29, ...</td>\n",
       "      <td>1</td>\n",
       "    </tr>\n",
       "    <tr>\n",
       "      <th>3</th>\n",
       "      <td>3</td>\n",
       "      <td>15 Civilians Killed In Single US Airstrike Hav...</td>\n",
       "      <td>Jessica Purkiss</td>\n",
       "      <td>Videos 15 Civilians Killed In Single US Airstr...</td>\n",
       "      <td>1</td>\n",
       "    </tr>\n",
       "    <tr>\n",
       "      <th>4</th>\n",
       "      <td>4</td>\n",
       "      <td>Iranian woman jailed for fictional unpublished...</td>\n",
       "      <td>Howard Portnoy</td>\n",
       "      <td>Print \\nAn Iranian woman has been sentenced to...</td>\n",
       "      <td>1</td>\n",
       "    </tr>\n",
       "  </tbody>\n",
       "</table>\n",
       "</div>"
      ],
      "text/plain": [
       "   id                                              title              author  \\\n",
       "0   0  House Dem Aide: We Didn’t Even See Comey’s Let...       Darrell Lucus   \n",
       "1   1  FLYNN: Hillary Clinton, Big Woman on Campus - ...     Daniel J. Flynn   \n",
       "2   2                  Why the Truth Might Get You Fired  Consortiumnews.com   \n",
       "3   3  15 Civilians Killed In Single US Airstrike Hav...     Jessica Purkiss   \n",
       "4   4  Iranian woman jailed for fictional unpublished...      Howard Portnoy   \n",
       "\n",
       "                                                text  label  \n",
       "0  House Dem Aide: We Didn’t Even See Comey’s Let...      1  \n",
       "1  Ever get the feeling your life circles the rou...      0  \n",
       "2  Why the Truth Might Get You Fired October 29, ...      1  \n",
       "3  Videos 15 Civilians Killed In Single US Airstr...      1  \n",
       "4  Print \\nAn Iranian woman has been sentenced to...      1  "
      ]
     },
     "execution_count": 4,
     "metadata": {},
     "output_type": "execute_result"
    }
   ],
   "source": [
    "df.head(5)"
   ]
  },
  {
   "cell_type": "code",
   "execution_count": 6,
   "metadata": {},
   "outputs": [
    {
     "data": {
      "text/plain": [
       "(20800, 5)"
      ]
     },
     "execution_count": 6,
     "metadata": {},
     "output_type": "execute_result"
    }
   ],
   "source": [
    "df.shape\n",
    "#Number of column and row"
   ]
  },
  {
   "cell_type": "code",
   "execution_count": 8,
   "metadata": {},
   "outputs": [],
   "source": [
    "df.dropna(inplace=True)"
   ]
  },
  {
   "cell_type": "code",
   "execution_count": 9,
   "metadata": {},
   "outputs": [
    {
     "data": {
      "text/plain": [
       "(18285, 5)"
      ]
     },
     "execution_count": 9,
     "metadata": {},
     "output_type": "execute_result"
    }
   ],
   "source": [
    "df.shape"
   ]
  },
  {
   "cell_type": "code",
   "execution_count": 10,
   "metadata": {},
   "outputs": [],
   "source": [
    "# Number of 0 and 1 Printed\n",
    "import seaborn as sns\n",
    "def create_distribution(feature):\n",
    "    return sns.countplot(df[feature])\n",
    "    "
   ]
  },
  {
   "cell_type": "code",
   "execution_count": 11,
   "metadata": {},
   "outputs": [
    {
     "data": {
      "text/plain": [
       "id         int64\n",
       "title     object\n",
       "author    object\n",
       "text      object\n",
       "label      int64\n",
       "dtype: object"
      ]
     },
     "execution_count": 11,
     "metadata": {},
     "output_type": "execute_result"
    }
   ],
   "source": [
    "df.dtypes"
   ]
  },
  {
   "cell_type": "code",
   "execution_count": 12,
   "metadata": {},
   "outputs": [],
   "source": [
    "df['label']=df['label'].astype(str)"
   ]
  },
  {
   "cell_type": "code",
   "execution_count": 13,
   "metadata": {},
   "outputs": [
    {
     "data": {
      "text/plain": [
       "<matplotlib.axes._subplots.AxesSubplot at 0x2b1415ae610>"
      ]
     },
     "execution_count": 13,
     "metadata": {},
     "output_type": "execute_result"
    },
    {
     "data": {
      "image/png": "[encoded data removed]",
      "text/plain": [
       "<Figure size 432x288 with 1 Axes>"
      ]
     },
     "metadata": {
      "needs_background": "light"
     },
     "output_type": "display_data"
    }
   ],
   "source": [
    "create_distribution('label')"
   ]
  },
  {
   "cell_type": "code",
   "execution_count": 14,
   "metadata": {},
   "outputs": [
    {
     "data": {
      "text/html": [
       "<div>\n",
       "<style scoped>\n",
       "    .dataframe tbody tr th:only-of-type {\n",
       "        vertical-align: middle;\n",
       "    }\n",
       "\n",
       "    .dataframe tbody tr th {\n",
       "        vertical-align: top;\n",
       "    }\n",
       "\n",
       "    .dataframe thead th {\n",
       "        text-align: right;\n",
       "    }\n",
       "</style>\n",
       "<table border=\"1\" class=\"dataframe\">\n",
       "  <thead>\n",
       "    <tr style=\"text-align: right;\">\n",
       "      <th></th>\n",
       "      <th>id</th>\n",
       "      <th>title</th>\n",
       "      <th>author</th>\n",
       "      <th>text</th>\n",
       "      <th>label</th>\n",
       "    </tr>\n",
       "  </thead>\n",
       "  <tbody>\n",
       "    <tr>\n",
       "      <th>0</th>\n",
       "      <td>0</td>\n",
       "      <td>House Dem Aide: We Didn’t Even See Comey’s Let...</td>\n",
       "      <td>Darrell Lucus</td>\n",
       "      <td>House Dem Aide: We Didn’t Even See Comey’s Let...</td>\n",
       "      <td>1</td>\n",
       "    </tr>\n",
       "    <tr>\n",
       "      <th>1</th>\n",
       "      <td>1</td>\n",
       "      <td>FLYNN: Hillary Clinton, Big Woman on Campus - ...</td>\n",
       "      <td>Daniel J. Flynn</td>\n",
       "      <td>Ever get the feeling your life circles the rou...</td>\n",
       "      <td>0</td>\n",
       "    </tr>\n",
       "    <tr>\n",
       "      <th>2</th>\n",
       "      <td>2</td>\n",
       "      <td>Why the Truth Might Get You Fired</td>\n",
       "      <td>Consortiumnews.com</td>\n",
       "      <td>Why the Truth Might Get You Fired October 29, ...</td>\n",
       "      <td>1</td>\n",
       "    </tr>\n",
       "    <tr>\n",
       "      <th>3</th>\n",
       "      <td>3</td>\n",
       "      <td>15 Civilians Killed In Single US Airstrike Hav...</td>\n",
       "      <td>Jessica Purkiss</td>\n",
       "      <td>Videos 15 Civilians Killed In Single US Airstr...</td>\n",
       "      <td>1</td>\n",
       "    </tr>\n",
       "    <tr>\n",
       "      <th>4</th>\n",
       "      <td>4</td>\n",
       "      <td>Iranian woman jailed for fictional unpublished...</td>\n",
       "      <td>Howard Portnoy</td>\n",
       "      <td>Print \\nAn Iranian woman has been sentenced to...</td>\n",
       "      <td>1</td>\n",
       "    </tr>\n",
       "    <tr>\n",
       "      <th>5</th>\n",
       "      <td>5</td>\n",
       "      <td>Jackie Mason: Hollywood Would Love Trump if He...</td>\n",
       "      <td>Daniel Nussbaum</td>\n",
       "      <td>In these trying times, Jackie Mason is the Voi...</td>\n",
       "      <td>0</td>\n",
       "    </tr>\n",
       "    <tr>\n",
       "      <th>7</th>\n",
       "      <td>7</td>\n",
       "      <td>Benoît Hamon Wins French Socialist Party’s Pre...</td>\n",
       "      <td>Alissa J. Rubin</td>\n",
       "      <td>PARIS  —   France chose an idealistic, traditi...</td>\n",
       "      <td>0</td>\n",
       "    </tr>\n",
       "    <tr>\n",
       "      <th>9</th>\n",
       "      <td>9</td>\n",
       "      <td>A Back-Channel Plan for Ukraine and Russia, Co...</td>\n",
       "      <td>Megan Twohey and Scott Shane</td>\n",
       "      <td>A week before Michael T. Flynn resigned as nat...</td>\n",
       "      <td>0</td>\n",
       "    </tr>\n",
       "    <tr>\n",
       "      <th>10</th>\n",
       "      <td>10</td>\n",
       "      <td>Obama’s Organizing for Action Partners with So...</td>\n",
       "      <td>Aaron Klein</td>\n",
       "      <td>Organizing for Action, the activist group that...</td>\n",
       "      <td>0</td>\n",
       "    </tr>\n",
       "    <tr>\n",
       "      <th>11</th>\n",
       "      <td>11</td>\n",
       "      <td>BBC Comedy Sketch \"Real Housewives of ISIS\" Ca...</td>\n",
       "      <td>Chris Tomlinson</td>\n",
       "      <td>The BBC produced spoof on the “Real Housewives...</td>\n",
       "      <td>0</td>\n",
       "    </tr>\n",
       "  </tbody>\n",
       "</table>\n",
       "</div>"
      ],
      "text/plain": [
       "    id                                              title  \\\n",
       "0    0  House Dem Aide: We Didn’t Even See Comey’s Let...   \n",
       "1    1  FLYNN: Hillary Clinton, Big Woman on Campus - ...   \n",
       "2    2                  Why the Truth Might Get You Fired   \n",
       "3    3  15 Civilians Killed In Single US Airstrike Hav...   \n",
       "4    4  Iranian woman jailed for fictional unpublished...   \n",
       "5    5  Jackie Mason: Hollywood Would Love Trump if He...   \n",
       "7    7  Benoît Hamon Wins French Socialist Party’s Pre...   \n",
       "9    9  A Back-Channel Plan for Ukraine and Russia, Co...   \n",
       "10  10  Obama’s Organizing for Action Partners with So...   \n",
       "11  11  BBC Comedy Sketch \"Real Housewives of ISIS\" Ca...   \n",
       "\n",
       "                          author  \\\n",
       "0                  Darrell Lucus   \n",
       "1                Daniel J. Flynn   \n",
       "2             Consortiumnews.com   \n",
       "3                Jessica Purkiss   \n",
       "4                 Howard Portnoy   \n",
       "5                Daniel Nussbaum   \n",
       "7                Alissa J. Rubin   \n",
       "9   Megan Twohey and Scott Shane   \n",
       "10                   Aaron Klein   \n",
       "11               Chris Tomlinson   \n",
       "\n",
       "                                                 text label  \n",
       "0   House Dem Aide: We Didn’t Even See Comey’s Let...     1  \n",
       "1   Ever get the feeling your life circles the rou...     0  \n",
       "2   Why the Truth Might Get You Fired October 29, ...     1  \n",
       "3   Videos 15 Civilians Killed In Single US Airstr...     1  \n",
       "4   Print \\nAn Iranian woman has been sentenced to...     1  \n",
       "5   In these trying times, Jackie Mason is the Voi...     0  \n",
       "7   PARIS  —   France chose an idealistic, traditi...     0  \n",
       "9   A week before Michael T. Flynn resigned as nat...     0  \n",
       "10  Organizing for Action, the activist group that...     0  \n",
       "11  The BBC produced spoof on the “Real Housewives...     0  "
      ]
     },
     "execution_count": 14,
     "metadata": {},
     "output_type": "execute_result"
    }
   ],
   "source": [
    "df.head(10)"
   ]
  },
  {
   "cell_type": "code",
   "execution_count": 15,
   "metadata": {},
   "outputs": [],
   "source": [
    "messages=df.copy()"
   ]
  },
  {
   "cell_type": "code",
   "execution_count": 16,
   "metadata": {},
   "outputs": [],
   "source": [
    "messages.reset_index(inplace=True)"
   ]
  },
  {
   "cell_type": "code",
   "execution_count": 17,
   "metadata": {},
   "outputs": [
    {
     "data": {
      "text/html": [
       "<div>\n",
       "<style scoped>\n",
       "    .dataframe tbody tr th:only-of-type {\n",
       "        vertical-align: middle;\n",
       "    }\n",
       "\n",
       "    .dataframe tbody tr th {\n",
       "        vertical-align: top;\n",
       "    }\n",
       "\n",
       "    .dataframe thead th {\n",
       "        text-align: right;\n",
       "    }\n",
       "</style>\n",
       "<table border=\"1\" class=\"dataframe\">\n",
       "  <thead>\n",
       "    <tr style=\"text-align: right;\">\n",
       "      <th></th>\n",
       "      <th>index</th>\n",
       "      <th>id</th>\n",
       "      <th>title</th>\n",
       "      <th>author</th>\n",
       "      <th>text</th>\n",
       "      <th>label</th>\n",
       "    </tr>\n",
       "  </thead>\n",
       "  <tbody>\n",
       "    <tr>\n",
       "      <th>0</th>\n",
       "      <td>0</td>\n",
       "      <td>0</td>\n",
       "      <td>House Dem Aide: We Didn’t Even See Comey’s Let...</td>\n",
       "      <td>Darrell Lucus</td>\n",
       "      <td>House Dem Aide: We Didn’t Even See Comey’s Let...</td>\n",
       "      <td>1</td>\n",
       "    </tr>\n",
       "    <tr>\n",
       "      <th>1</th>\n",
       "      <td>1</td>\n",
       "      <td>1</td>\n",
       "      <td>FLYNN: Hillary Clinton, Big Woman on Campus - ...</td>\n",
       "      <td>Daniel J. Flynn</td>\n",
       "      <td>Ever get the feeling your life circles the rou...</td>\n",
       "      <td>0</td>\n",
       "    </tr>\n",
       "    <tr>\n",
       "      <th>2</th>\n",
       "      <td>2</td>\n",
       "      <td>2</td>\n",
       "      <td>Why the Truth Might Get You Fired</td>\n",
       "      <td>Consortiumnews.com</td>\n",
       "      <td>Why the Truth Might Get You Fired October 29, ...</td>\n",
       "      <td>1</td>\n",
       "    </tr>\n",
       "    <tr>\n",
       "      <th>3</th>\n",
       "      <td>3</td>\n",
       "      <td>3</td>\n",
       "      <td>15 Civilians Killed In Single US Airstrike Hav...</td>\n",
       "      <td>Jessica Purkiss</td>\n",
       "      <td>Videos 15 Civilians Killed In Single US Airstr...</td>\n",
       "      <td>1</td>\n",
       "    </tr>\n",
       "    <tr>\n",
       "      <th>4</th>\n",
       "      <td>4</td>\n",
       "      <td>4</td>\n",
       "      <td>Iranian woman jailed for fictional unpublished...</td>\n",
       "      <td>Howard Portnoy</td>\n",
       "      <td>Print \\nAn Iranian woman has been sentenced to...</td>\n",
       "      <td>1</td>\n",
       "    </tr>\n",
       "    <tr>\n",
       "      <th>5</th>\n",
       "      <td>5</td>\n",
       "      <td>5</td>\n",
       "      <td>Jackie Mason: Hollywood Would Love Trump if He...</td>\n",
       "      <td>Daniel Nussbaum</td>\n",
       "      <td>In these trying times, Jackie Mason is the Voi...</td>\n",
       "      <td>0</td>\n",
       "    </tr>\n",
       "    <tr>\n",
       "      <th>6</th>\n",
       "      <td>7</td>\n",
       "      <td>7</td>\n",
       "      <td>Benoît Hamon Wins French Socialist Party’s Pre...</td>\n",
       "      <td>Alissa J. Rubin</td>\n",
       "      <td>PARIS  —   France chose an idealistic, traditi...</td>\n",
       "      <td>0</td>\n",
       "    </tr>\n",
       "    <tr>\n",
       "      <th>7</th>\n",
       "      <td>9</td>\n",
       "      <td>9</td>\n",
       "      <td>A Back-Channel Plan for Ukraine and Russia, Co...</td>\n",
       "      <td>Megan Twohey and Scott Shane</td>\n",
       "      <td>A week before Michael T. Flynn resigned as nat...</td>\n",
       "      <td>0</td>\n",
       "    </tr>\n",
       "    <tr>\n",
       "      <th>8</th>\n",
       "      <td>10</td>\n",
       "      <td>10</td>\n",
       "      <td>Obama’s Organizing for Action Partners with So...</td>\n",
       "      <td>Aaron Klein</td>\n",
       "      <td>Organizing for Action, the activist group that...</td>\n",
       "      <td>0</td>\n",
       "    </tr>\n",
       "    <tr>\n",
       "      <th>9</th>\n",
       "      <td>11</td>\n",
       "      <td>11</td>\n",
       "      <td>BBC Comedy Sketch \"Real Housewives of ISIS\" Ca...</td>\n",
       "      <td>Chris Tomlinson</td>\n",
       "      <td>The BBC produced spoof on the “Real Housewives...</td>\n",
       "      <td>0</td>\n",
       "    </tr>\n",
       "  </tbody>\n",
       "</table>\n",
       "</div>"
      ],
      "text/plain": [
       "   index  id                                              title  \\\n",
       "0      0   0  House Dem Aide: We Didn’t Even See Comey’s Let...   \n",
       "1      1   1  FLYNN: Hillary Clinton, Big Woman on Campus - ...   \n",
       "2      2   2                  Why the Truth Might Get You Fired   \n",
       "3      3   3  15 Civilians Killed In Single US Airstrike Hav...   \n",
       "4      4   4  Iranian woman jailed for fictional unpublished...   \n",
       "5      5   5  Jackie Mason: Hollywood Would Love Trump if He...   \n",
       "6      7   7  Benoît Hamon Wins French Socialist Party’s Pre...   \n",
       "7      9   9  A Back-Channel Plan for Ukraine and Russia, Co...   \n",
       "8     10  10  Obama’s Organizing for Action Partners with So...   \n",
       "9     11  11  BBC Comedy Sketch \"Real Housewives of ISIS\" Ca...   \n",
       "\n",
       "                         author  \\\n",
       "0                 Darrell Lucus   \n",
       "1               Daniel J. Flynn   \n",
       "2            Consortiumnews.com   \n",
       "3               Jessica Purkiss   \n",
       "4                Howard Portnoy   \n",
       "5               Daniel Nussbaum   \n",
       "6               Alissa J. Rubin   \n",
       "7  Megan Twohey and Scott Shane   \n",
       "8                   Aaron Klein   \n",
       "9               Chris Tomlinson   \n",
       "\n",
       "                                                text label  \n",
       "0  House Dem Aide: We Didn’t Even See Comey’s Let...     1  \n",
       "1  Ever get the feeling your life circles the rou...     0  \n",
       "2  Why the Truth Might Get You Fired October 29, ...     1  \n",
       "3  Videos 15 Civilians Killed In Single US Airstr...     1  \n",
       "4  Print \\nAn Iranian woman has been sentenced to...     1  \n",
       "5  In these trying times, Jackie Mason is the Voi...     0  \n",
       "6  PARIS  —   France chose an idealistic, traditi...     0  \n",
       "7  A week before Michael T. Flynn resigned as nat...     0  \n",
       "8  Organizing for Action, the activist group that...     0  \n",
       "9  The BBC produced spoof on the “Real Housewives...     0  "
      ]
     },
     "execution_count": 17,
     "metadata": {},
     "output_type": "execute_result"
    }
   ],
   "source": [
    "messages.head(10)"
   ]
  },
  {
   "cell_type": "code",
   "execution_count": 18,
   "metadata": {},
   "outputs": [],
   "source": [
    "# Remove the duplicate value\n",
    "messages.drop(['index','id'],axis=1,inplace=True)"
   ]
  },
  {
   "cell_type": "code",
   "execution_count": 19,
   "metadata": {},
   "outputs": [
    {
     "data": {
      "text/html": [
       "<div>\n",
       "<style scoped>\n",
       "    .dataframe tbody tr th:only-of-type {\n",
       "        vertical-align: middle;\n",
       "    }\n",
       "\n",
       "    .dataframe tbody tr th {\n",
       "        vertical-align: top;\n",
       "    }\n",
       "\n",
       "    .dataframe thead th {\n",
       "        text-align: right;\n",
       "    }\n",
       "</style>\n",
       "<table border=\"1\" class=\"dataframe\">\n",
       "  <thead>\n",
       "    <tr style=\"text-align: right;\">\n",
       "      <th></th>\n",
       "      <th>title</th>\n",
       "      <th>author</th>\n",
       "      <th>text</th>\n",
       "      <th>label</th>\n",
       "    </tr>\n",
       "  </thead>\n",
       "  <tbody>\n",
       "    <tr>\n",
       "      <th>0</th>\n",
       "      <td>House Dem Aide: We Didn’t Even See Comey’s Let...</td>\n",
       "      <td>Darrell Lucus</td>\n",
       "      <td>House Dem Aide: We Didn’t Even See Comey’s Let...</td>\n",
       "      <td>1</td>\n",
       "    </tr>\n",
       "    <tr>\n",
       "      <th>1</th>\n",
       "      <td>FLYNN: Hillary Clinton, Big Woman on Campus - ...</td>\n",
       "      <td>Daniel J. Flynn</td>\n",
       "      <td>Ever get the feeling your life circles the rou...</td>\n",
       "      <td>0</td>\n",
       "    </tr>\n",
       "    <tr>\n",
       "      <th>2</th>\n",
       "      <td>Why the Truth Might Get You Fired</td>\n",
       "      <td>Consortiumnews.com</td>\n",
       "      <td>Why the Truth Might Get You Fired October 29, ...</td>\n",
       "      <td>1</td>\n",
       "    </tr>\n",
       "    <tr>\n",
       "      <th>3</th>\n",
       "      <td>15 Civilians Killed In Single US Airstrike Hav...</td>\n",
       "      <td>Jessica Purkiss</td>\n",
       "      <td>Videos 15 Civilians Killed In Single US Airstr...</td>\n",
       "      <td>1</td>\n",
       "    </tr>\n",
       "    <tr>\n",
       "      <th>4</th>\n",
       "      <td>Iranian woman jailed for fictional unpublished...</td>\n",
       "      <td>Howard Portnoy</td>\n",
       "      <td>Print \\nAn Iranian woman has been sentenced to...</td>\n",
       "      <td>1</td>\n",
       "    </tr>\n",
       "  </tbody>\n",
       "</table>\n",
       "</div>"
      ],
      "text/plain": [
       "                                               title              author  \\\n",
       "0  House Dem Aide: We Didn’t Even See Comey’s Let...       Darrell Lucus   \n",
       "1  FLYNN: Hillary Clinton, Big Woman on Campus - ...     Daniel J. Flynn   \n",
       "2                  Why the Truth Might Get You Fired  Consortiumnews.com   \n",
       "3  15 Civilians Killed In Single US Airstrike Hav...     Jessica Purkiss   \n",
       "4  Iranian woman jailed for fictional unpublished...      Howard Portnoy   \n",
       "\n",
       "                                                text label  \n",
       "0  House Dem Aide: We Didn’t Even See Comey’s Let...     1  \n",
       "1  Ever get the feeling your life circles the rou...     0  \n",
       "2  Why the Truth Might Get You Fired October 29, ...     1  \n",
       "3  Videos 15 Civilians Killed In Single US Airstr...     1  \n",
       "4  Print \\nAn Iranian woman has been sentenced to...     1  "
      ]
     },
     "execution_count": 19,
     "metadata": {},
     "output_type": "execute_result"
    }
   ],
   "source": [
    "messages.head()"
   ]
  },
  {
   "cell_type": "code",
   "execution_count": null,
   "metadata": {},
   "outputs": [],
   "source": []
  },
  {
   "cell_type": "code",
   "execution_count": 25,
   "metadata": {},
   "outputs": [
    {
     "data": {
      "text/plain": [
       "'House Dem Aide: We Didn’t Even See Comey’s Letter Until Jason Chaffetz Tweeted It'"
      ]
     },
     "execution_count": 25,
     "metadata": {},
     "output_type": "execute_result"
    }
   ],
   "source": [
    "data=messages['title'][0]\n",
    "data"
   ]
  },
  {
   "cell_type": "code",
   "execution_count": null,
   "metadata": {},
   "outputs": [],
   "source": [
    "#Remove the special character from Data by using regular expression\n"
   ]
  },
  {
   "cell_type": "code",
   "execution_count": 23,
   "metadata": {},
   "outputs": [],
   "source": [
    "import re"
   ]
  },
  {
   "cell_type": "code",
   "execution_count": 26,
   "metadata": {},
   "outputs": [
    {
     "data": {
      "text/plain": [
       "'House Dem Aide  We Didn t Even See Comey s Letter Until Jason Chaffetz Tweeted It'"
      ]
     },
     "execution_count": 26,
     "metadata": {},
     "output_type": "execute_result"
    }
   ],
   "source": [
    "re.sub('[^a-zA-Z]',' ',data)"
   ]
  },
  {
   "cell_type": "code",
   "execution_count": 28,
   "metadata": {},
   "outputs": [
    {
     "data": {
      "text/plain": [
       "'house dem aide: we didn’t even see comey’s letter until jason chaffetz tweeted it'"
      ]
     },
     "execution_count": 28,
     "metadata": {},
     "output_type": "execute_result"
    }
   ],
   "source": [
    "data=data.lower() # Converting the data\n",
    "data"
   ]
  },
  {
   "cell_type": "code",
   "execution_count": null,
   "metadata": {},
   "outputs": [],
   "source": [
    "## Using the NLP # TF-IDF-- Vector Representation"
   ]
  },
  {
   "cell_type": "code",
   "execution_count": 29,
   "metadata": {},
   "outputs": [
    {
     "data": {
      "text/plain": [
       "['house',\n",
       " 'dem',\n",
       " 'aide:',\n",
       " 'we',\n",
       " 'didn’t',\n",
       " 'even',\n",
       " 'see',\n",
       " 'comey’s',\n",
       " 'letter',\n",
       " 'until',\n",
       " 'jason',\n",
       " 'chaffetz',\n",
       " 'tweeted',\n",
       " 'it']"
      ]
     },
     "execution_count": 29,
     "metadata": {},
     "output_type": "execute_result"
    }
   ],
   "source": [
    "list=data.split() # Splitting the data\n",
    "list"
   ]
  },
  {
   "cell_type": "code",
   "execution_count": 32,
   "metadata": {},
   "outputs": [],
   "source": [
    "import nltk\n",
    "from nltk.stem.porter import PorterStemmer\n",
    "from nltk.corpus import stopwords"
   ]
  },
  {
   "cell_type": "code",
   "execution_count": 33,
   "metadata": {},
   "outputs": [],
   "source": [
    "ps=PorterStemmer()"
   ]
  },
  {
   "cell_type": "code",
   "execution_count": 40,
   "metadata": {},
   "outputs": [
    {
     "data": {
      "text/plain": [
       "['hous',\n",
       " 'dem',\n",
       " 'aide:',\n",
       " 'didn’t',\n",
       " 'even',\n",
       " 'see',\n",
       " 'comey’',\n",
       " 'letter',\n",
       " 'jason',\n",
       " 'chaffetz',\n",
       " 'tweet']"
      ]
     },
     "execution_count": 40,
     "metadata": {},
     "output_type": "execute_result"
    }
   ],
   "source": [
    "[ps.stem(word) for word in list if word not in set(stopwords.words('english'))]"
   ]
  },
  {
   "cell_type": "code",
   "execution_count": 47,
   "metadata": {},
   "outputs": [
    {
     "data": {
      "text/plain": [
       "['hous',\n",
       " 'dem',\n",
       " 'aide:',\n",
       " 'didn’t',\n",
       " 'even',\n",
       " 'see',\n",
       " 'comey’',\n",
       " 'letter',\n",
       " 'jason',\n",
       " 'chaffetz',\n",
       " 'tweet']"
      ]
     },
     "execution_count": 47,
     "metadata": {},
     "output_type": "execute_result"
    }
   ],
   "source": [
    "review=[]\n",
    "for word in list:\n",
    "    if word not in(stopwords.words('english')):\n",
    "        review.append(ps.stem(word))\n",
    "review"
   ]
  },
  {
   "cell_type": "code",
   "execution_count": 53,
   "metadata": {},
   "outputs": [
    {
     "data": {
      "text/plain": [
       "'hous dem aide: didn’t even see comey’ letter jason chaffetz tweet'"
      ]
     },
     "execution_count": 53,
     "metadata": {},
     "output_type": "execute_result"
    }
   ],
   "source": [
    "' '.join(review)"
   ]
  },
  {
   "cell_type": "code",
   "execution_count": null,
   "metadata": {},
   "outputs": [],
   "source": [
    "#set the review in full index"
   ]
  },
  {
   "cell_type": "code",
   "execution_count": 105,
   "metadata": {},
   "outputs": [],
   "source": [
    "corpus=[]\n",
    "sentences=[]\n",
    "for i in range(0,len(messages)):\n",
    "    review=re.sub('[^a-zA-Z]',' ',messages['title'][i])\n",
    "    review=review.lower()\n",
    "    review=review.split()\n",
    "    review=[ps.stem(word) for word in list if word not in set(stopwords.words('english'))]\n",
    "    sentences=' '.join(review)\n",
    "    corpus.append(sentences)"
   ]
  },
  {
   "cell_type": "code",
   "execution_count": null,
   "metadata": {},
   "outputs": [],
   "source": []
  },
  {
   "cell_type": "code",
   "execution_count": 106,
   "metadata": {},
   "outputs": [
    {
     "data": {
      "text/plain": [
       "'hous dem aide: didn’t even see comey’ letter jason chaffetz tweet'"
      ]
     },
     "execution_count": 106,
     "metadata": {},
     "output_type": "execute_result"
    }
   ],
   "source": [
    "corpus[0]"
   ]
  },
  {
   "cell_type": "code",
   "execution_count": 55,
   "metadata": {},
   "outputs": [
    {
     "data": {
      "text/plain": [
       "['hous dem aide: didn’t even see comey’ letter jason chaffetz tweet',\n",
       " 'hous dem aide: didn’t even see comey’ letter jason chaffetz tweet',\n",
       " 'hous dem aide: didn’t even see comey’ letter jason chaffetz tweet',\n",
       " 'hous dem aide: didn’t even see comey’ letter jason chaffetz tweet',\n",
       " 'hous dem aide: didn’t even see comey’ letter jason chaffetz tweet',\n",
       " 'hous dem aide: didn’t even see comey’ letter jason chaffetz tweet',\n",
       " 'hous dem aide: didn’t even see comey’ letter jason chaffetz tweet',\n",
       " 'hous dem aide: didn’t even see comey’ letter jason chaffetz tweet',\n",
       " 'hous dem aide: didn’t even see comey’ letter jason chaffetz tweet',\n",
       " 'hous dem aide: didn’t even see comey’ letter jason chaffetz tweet',\n",
       " 'hous dem aide: didn’t even see comey’ letter jason chaffetz tweet',\n",
       " 'hous dem aide: didn’t even see comey’ letter jason chaffetz tweet',\n",
       " 'hous dem aide: didn’t even see comey’ letter jason chaffetz tweet',\n",
       " 'hous dem aide: didn’t even see comey’ letter jason chaffetz tweet',\n",
       " 'hous dem aide: didn’t even see comey’ letter jason chaffetz tweet',\n",
       " 'hous dem aide: didn’t even see comey’ letter jason chaffetz tweet',\n",
       " 'hous dem aide: didn’t even see comey’ letter jason chaffetz tweet',\n",
       " 'hous dem aide: didn’t even see comey’ letter jason chaffetz tweet',\n",
       " 'hous dem aide: didn’t even see comey’ letter jason chaffetz tweet',\n",
       " 'hous dem aide: didn’t even see comey’ letter jason chaffetz tweet',\n",
       " 'hous dem aide: didn’t even see comey’ letter jason chaffetz tweet',\n",
       " 'hous dem aide: didn’t even see comey’ letter jason chaffetz tweet',\n",
       " 'hous dem aide: didn’t even see comey’ letter jason chaffetz tweet',\n",
       " 'hous dem aide: didn’t even see comey’ letter jason chaffetz tweet',\n",
       " 'hous dem aide: didn’t even see comey’ letter jason chaffetz tweet',\n",
       " 'hous dem aide: didn’t even see comey’ letter jason chaffetz tweet',\n",
       " 'hous dem aide: didn’t even see comey’ letter jason chaffetz tweet',\n",
       " 'hous dem aide: didn’t even see comey’ letter jason chaffetz tweet',\n",
       " 'hous dem aide: didn’t even see comey’ letter jason chaffetz tweet',\n",
       " 'hous dem aide: didn’t even see comey’ letter jason chaffetz tweet',\n",
       " 'hous dem aide: didn’t even see comey’ letter jason chaffetz tweet',\n",
       " 'hous dem aide: didn’t even see comey’ letter jason chaffetz tweet',\n",
       " 'hous dem aide: didn’t even see comey’ letter jason chaffetz tweet',\n",
       " 'hous dem aide: didn’t even see comey’ letter jason chaffetz tweet',\n",
       " 'hous dem aide: didn’t even see comey’ letter jason chaffetz tweet',\n",
       " 'hous dem aide: didn’t even see comey’ letter jason chaffetz tweet',\n",
       " 'hous dem aide: didn’t even see comey’ letter jason chaffetz tweet',\n",
       " 'hous dem aide: didn’t even see comey’ letter jason chaffetz tweet',\n",
       " 'hous dem aide: didn’t even see comey’ letter jason chaffetz tweet',\n",
       " 'hous dem aide: didn’t even see comey’ letter jason chaffetz tweet',\n",
       " 'hous dem aide: didn’t even see comey’ letter jason chaffetz tweet',\n",
       " 'hous dem aide: didn’t even see comey’ letter jason chaffetz tweet',\n",
       " 'hous dem aide: didn’t even see comey’ letter jason chaffetz tweet',\n",
       " 'hous dem aide: didn’t even see comey’ letter jason chaffetz tweet',\n",
       " 'hous dem aide: didn’t even see comey’ letter jason chaffetz tweet',\n",
       " 'hous dem aide: didn’t even see comey’ letter jason chaffetz tweet',\n",
       " 'hous dem aide: didn’t even see comey’ letter jason chaffetz tweet',\n",
       " 'hous dem aide: didn’t even see comey’ letter jason chaffetz tweet',\n",
       " 'hous dem aide: didn’t even see comey’ letter jason chaffetz tweet',\n",
       " 'hous dem aide: didn’t even see comey’ letter jason chaffetz tweet',\n",
       " 'hous dem aide: didn’t even see comey’ letter jason chaffetz tweet',\n",
       " 'hous dem aide: didn’t even see comey’ letter jason chaffetz tweet',\n",
       " 'hous dem aide: didn’t even see comey’ letter jason chaffetz tweet',\n",
       " 'hous dem aide: didn’t even see comey’ letter jason chaffetz tweet',\n",
       " 'hous dem aide: didn’t even see comey’ letter jason chaffetz tweet',\n",
       " 'hous dem aide: didn’t even see comey’ letter jason chaffetz tweet',\n",
       " 'hous dem aide: didn’t even see comey’ letter jason chaffetz tweet',\n",
       " 'hous dem aide: didn’t even see comey’ letter jason chaffetz tweet',\n",
       " 'hous dem aide: didn’t even see comey’ letter jason chaffetz tweet',\n",
       " 'hous dem aide: didn’t even see comey’ letter jason chaffetz tweet',\n",
       " 'hous dem aide: didn’t even see comey’ letter jason chaffetz tweet',\n",
       " 'hous dem aide: didn’t even see comey’ letter jason chaffetz tweet',\n",
       " 'hous dem aide: didn’t even see comey’ letter jason chaffetz tweet',\n",
       " 'hous dem aide: didn’t even see comey’ letter jason chaffetz tweet',\n",
       " 'hous dem aide: didn’t even see comey’ letter jason chaffetz tweet',\n",
       " 'hous dem aide: didn’t even see comey’ letter jason chaffetz tweet',\n",
       " 'hous dem aide: didn’t even see comey’ letter jason chaffetz tweet',\n",
       " 'hous dem aide: didn’t even see comey’ letter jason chaffetz tweet',\n",
       " 'hous dem aide: didn’t even see comey’ letter jason chaffetz tweet',\n",
       " 'hous dem aide: didn’t even see comey’ letter jason chaffetz tweet',\n",
       " 'hous dem aide: didn’t even see comey’ letter jason chaffetz tweet',\n",
       " 'hous dem aide: didn’t even see comey’ letter jason chaffetz tweet',\n",
       " 'hous dem aide: didn’t even see comey’ letter jason chaffetz tweet',\n",
       " 'hous dem aide: didn’t even see comey’ letter jason chaffetz tweet',\n",
       " 'hous dem aide: didn’t even see comey’ letter jason chaffetz tweet',\n",
       " 'hous dem aide: didn’t even see comey’ letter jason chaffetz tweet',\n",
       " 'hous dem aide: didn’t even see comey’ letter jason chaffetz tweet',\n",
       " 'hous dem aide: didn’t even see comey’ letter jason chaffetz tweet',\n",
       " 'hous dem aide: didn’t even see comey’ letter jason chaffetz tweet',\n",
       " 'hous dem aide: didn’t even see comey’ letter jason chaffetz tweet',\n",
       " 'hous dem aide: didn’t even see comey’ letter jason chaffetz tweet',\n",
       " 'hous dem aide: didn’t even see comey’ letter jason chaffetz tweet',\n",
       " 'hous dem aide: didn’t even see comey’ letter jason chaffetz tweet',\n",
       " 'hous dem aide: didn’t even see comey’ letter jason chaffetz tweet',\n",
       " 'hous dem aide: didn’t even see comey’ letter jason chaffetz tweet',\n",
       " 'hous dem aide: didn’t even see comey’ letter jason chaffetz tweet',\n",
       " 'hous dem aide: didn’t even see comey’ letter jason chaffetz tweet',\n",
       " 'hous dem aide: didn’t even see comey’ letter jason chaffetz tweet',\n",
       " 'hous dem aide: didn’t even see comey’ letter jason chaffetz tweet',\n",
       " 'hous dem aide: didn’t even see comey’ letter jason chaffetz tweet',\n",
       " 'hous dem aide: didn’t even see comey’ letter jason chaffetz tweet',\n",
       " 'hous dem aide: didn’t even see comey’ letter jason chaffetz tweet',\n",
       " 'hous dem aide: didn’t even see comey’ letter jason chaffetz tweet',\n",
       " 'hous dem aide: didn’t even see comey’ letter jason chaffetz tweet',\n",
       " 'hous dem aide: didn’t even see comey’ letter jason chaffetz tweet',\n",
       " 'hous dem aide: didn’t even see comey’ letter jason chaffetz tweet',\n",
       " 'hous dem aide: didn’t even see comey’ letter jason chaffetz tweet',\n",
       " 'hous dem aide: didn’t even see comey’ letter jason chaffetz tweet',\n",
       " 'hous dem aide: didn’t even see comey’ letter jason chaffetz tweet',\n",
       " 'hous dem aide: didn’t even see comey’ letter jason chaffetz tweet',\n",
       " 'hous dem aide: didn’t even see comey’ letter jason chaffetz tweet',\n",
       " 'hous dem aide: didn’t even see comey’ letter jason chaffetz tweet',\n",
       " 'hous dem aide: didn’t even see comey’ letter jason chaffetz tweet',\n",
       " 'hous dem aide: didn’t even see comey’ letter jason chaffetz tweet',\n",
       " 'hous dem aide: didn’t even see comey’ letter jason chaffetz tweet',\n",
       " 'hous dem aide: didn’t even see comey’ letter jason chaffetz tweet',\n",
       " 'hous dem aide: didn’t even see comey’ letter jason chaffetz tweet',\n",
       " 'hous dem aide: didn’t even see comey’ letter jason chaffetz tweet',\n",
       " 'hous dem aide: didn’t even see comey’ letter jason chaffetz tweet',\n",
       " 'hous dem aide: didn’t even see comey’ letter jason chaffetz tweet',\n",
       " 'hous dem aide: didn’t even see comey’ letter jason chaffetz tweet',\n",
       " 'hous dem aide: didn’t even see comey’ letter jason chaffetz tweet',\n",
       " 'hous dem aide: didn’t even see comey’ letter jason chaffetz tweet',\n",
       " 'hous dem aide: didn’t even see comey’ letter jason chaffetz tweet',\n",
       " 'hous dem aide: didn’t even see comey’ letter jason chaffetz tweet',\n",
       " 'hous dem aide: didn’t even see comey’ letter jason chaffetz tweet',\n",
       " 'hous dem aide: didn’t even see comey’ letter jason chaffetz tweet',\n",
       " 'hous dem aide: didn’t even see comey’ letter jason chaffetz tweet',\n",
       " 'hous dem aide: didn’t even see comey’ letter jason chaffetz tweet',\n",
       " 'hous dem aide: didn’t even see comey’ letter jason chaffetz tweet',\n",
       " 'hous dem aide: didn’t even see comey’ letter jason chaffetz tweet',\n",
       " 'hous dem aide: didn’t even see comey’ letter jason chaffetz tweet',\n",
       " 'hous dem aide: didn’t even see comey’ letter jason chaffetz tweet',\n",
       " 'hous dem aide: didn’t even see comey’ letter jason chaffetz tweet',\n",
       " 'hous dem aide: didn’t even see comey’ letter jason chaffetz tweet',\n",
       " 'hous dem aide: didn’t even see comey’ letter jason chaffetz tweet',\n",
       " 'hous dem aide: didn’t even see comey’ letter jason chaffetz tweet',\n",
       " 'hous dem aide: didn’t even see comey’ letter jason chaffetz tweet',\n",
       " 'hous dem aide: didn’t even see comey’ letter jason chaffetz tweet',\n",
       " 'hous dem aide: didn’t even see comey’ letter jason chaffetz tweet',\n",
       " 'hous dem aide: didn’t even see comey’ letter jason chaffetz tweet',\n",
       " 'hous dem aide: didn’t even see comey’ letter jason chaffetz tweet',\n",
       " 'hous dem aide: didn’t even see comey’ letter jason chaffetz tweet',\n",
       " 'hous dem aide: didn’t even see comey’ letter jason chaffetz tweet',\n",
       " 'hous dem aide: didn’t even see comey’ letter jason chaffetz tweet',\n",
       " 'hous dem aide: didn’t even see comey’ letter jason chaffetz tweet',\n",
       " 'hous dem aide: didn’t even see comey’ letter jason chaffetz tweet',\n",
       " 'hous dem aide: didn’t even see comey’ letter jason chaffetz tweet',\n",
       " 'hous dem aide: didn’t even see comey’ letter jason chaffetz tweet',\n",
       " 'hous dem aide: didn’t even see comey’ letter jason chaffetz tweet',\n",
       " 'hous dem aide: didn’t even see comey’ letter jason chaffetz tweet',\n",
       " 'hous dem aide: didn’t even see comey’ letter jason chaffetz tweet',\n",
       " 'hous dem aide: didn’t even see comey’ letter jason chaffetz tweet',\n",
       " 'hous dem aide: didn’t even see comey’ letter jason chaffetz tweet',\n",
       " 'hous dem aide: didn’t even see comey’ letter jason chaffetz tweet',\n",
       " 'hous dem aide: didn’t even see comey’ letter jason chaffetz tweet',\n",
       " 'hous dem aide: didn’t even see comey’ letter jason chaffetz tweet',\n",
       " 'hous dem aide: didn’t even see comey’ letter jason chaffetz tweet',\n",
       " 'hous dem aide: didn’t even see comey’ letter jason chaffetz tweet',\n",
       " 'hous dem aide: didn’t even see comey’ letter jason chaffetz tweet',\n",
       " 'hous dem aide: didn’t even see comey’ letter jason chaffetz tweet',\n",
       " 'hous dem aide: didn’t even see comey’ letter jason chaffetz tweet',\n",
       " 'hous dem aide: didn’t even see comey’ letter jason chaffetz tweet',\n",
       " 'hous dem aide: didn’t even see comey’ letter jason chaffetz tweet',\n",
       " 'hous dem aide: didn’t even see comey’ letter jason chaffetz tweet',\n",
       " 'hous dem aide: didn’t even see comey’ letter jason chaffetz tweet',\n",
       " 'hous dem aide: didn’t even see comey’ letter jason chaffetz tweet',\n",
       " 'hous dem aide: didn’t even see comey’ letter jason chaffetz tweet',\n",
       " 'hous dem aide: didn’t even see comey’ letter jason chaffetz tweet',\n",
       " 'hous dem aide: didn’t even see comey’ letter jason chaffetz tweet',\n",
       " 'hous dem aide: didn’t even see comey’ letter jason chaffetz tweet',\n",
       " 'hous dem aide: didn’t even see comey’ letter jason chaffetz tweet',\n",
       " 'hous dem aide: didn’t even see comey’ letter jason chaffetz tweet',\n",
       " 'hous dem aide: didn’t even see comey’ letter jason chaffetz tweet',\n",
       " 'hous dem aide: didn’t even see comey’ letter jason chaffetz tweet',\n",
       " 'hous dem aide: didn’t even see comey’ letter jason chaffetz tweet',\n",
       " 'hous dem aide: didn’t even see comey’ letter jason chaffetz tweet',\n",
       " 'hous dem aide: didn’t even see comey’ letter jason chaffetz tweet',\n",
       " 'hous dem aide: didn’t even see comey’ letter jason chaffetz tweet',\n",
       " 'hous dem aide: didn’t even see comey’ letter jason chaffetz tweet',\n",
       " 'hous dem aide: didn’t even see comey’ letter jason chaffetz tweet',\n",
       " 'hous dem aide: didn’t even see comey’ letter jason chaffetz tweet',\n",
       " 'hous dem aide: didn’t even see comey’ letter jason chaffetz tweet',\n",
       " 'hous dem aide: didn’t even see comey’ letter jason chaffetz tweet',\n",
       " 'hous dem aide: didn’t even see comey’ letter jason chaffetz tweet',\n",
       " 'hous dem aide: didn’t even see comey’ letter jason chaffetz tweet',\n",
       " 'hous dem aide: didn’t even see comey’ letter jason chaffetz tweet',\n",
       " 'hous dem aide: didn’t even see comey’ letter jason chaffetz tweet',\n",
       " 'hous dem aide: didn’t even see comey’ letter jason chaffetz tweet',\n",
       " 'hous dem aide: didn’t even see comey’ letter jason chaffetz tweet',\n",
       " 'hous dem aide: didn’t even see comey’ letter jason chaffetz tweet',\n",
       " 'hous dem aide: didn’t even see comey’ letter jason chaffetz tweet',\n",
       " 'hous dem aide: didn’t even see comey’ letter jason chaffetz tweet',\n",
       " 'hous dem aide: didn’t even see comey’ letter jason chaffetz tweet',\n",
       " 'hous dem aide: didn’t even see comey’ letter jason chaffetz tweet',\n",
       " 'hous dem aide: didn’t even see comey’ letter jason chaffetz tweet',\n",
       " 'hous dem aide: didn’t even see comey’ letter jason chaffetz tweet',\n",
       " 'hous dem aide: didn’t even see comey’ letter jason chaffetz tweet',\n",
       " 'hous dem aide: didn’t even see comey’ letter jason chaffetz tweet',\n",
       " 'hous dem aide: didn’t even see comey’ letter jason chaffetz tweet',\n",
       " 'hous dem aide: didn’t even see comey’ letter jason chaffetz tweet',\n",
       " 'hous dem aide: didn’t even see comey’ letter jason chaffetz tweet',\n",
       " 'hous dem aide: didn’t even see comey’ letter jason chaffetz tweet',\n",
       " 'hous dem aide: didn’t even see comey’ letter jason chaffetz tweet',\n",
       " 'hous dem aide: didn’t even see comey’ letter jason chaffetz tweet',\n",
       " 'hous dem aide: didn’t even see comey’ letter jason chaffetz tweet',\n",
       " 'hous dem aide: didn’t even see comey’ letter jason chaffetz tweet',\n",
       " 'hous dem aide: didn’t even see comey’ letter jason chaffetz tweet',\n",
       " 'hous dem aide: didn’t even see comey’ letter jason chaffetz tweet',\n",
       " 'hous dem aide: didn’t even see comey’ letter jason chaffetz tweet',\n",
       " 'hous dem aide: didn’t even see comey’ letter jason chaffetz tweet',\n",
       " 'hous dem aide: didn’t even see comey’ letter jason chaffetz tweet',\n",
       " 'hous dem aide: didn’t even see comey’ letter jason chaffetz tweet',\n",
       " 'hous dem aide: didn’t even see comey’ letter jason chaffetz tweet',\n",
       " 'hous dem aide: didn’t even see comey’ letter jason chaffetz tweet',\n",
       " 'hous dem aide: didn’t even see comey’ letter jason chaffetz tweet',\n",
       " 'hous dem aide: didn’t even see comey’ letter jason chaffetz tweet',\n",
       " 'hous dem aide: didn’t even see comey’ letter jason chaffetz tweet',\n",
       " 'hous dem aide: didn’t even see comey’ letter jason chaffetz tweet',\n",
       " 'hous dem aide: didn’t even see comey’ letter jason chaffetz tweet',\n",
       " 'hous dem aide: didn’t even see comey’ letter jason chaffetz tweet',\n",
       " 'hous dem aide: didn’t even see comey’ letter jason chaffetz tweet',\n",
       " 'hous dem aide: didn’t even see comey’ letter jason chaffetz tweet',\n",
       " 'hous dem aide: didn’t even see comey’ letter jason chaffetz tweet',\n",
       " 'hous dem aide: didn’t even see comey’ letter jason chaffetz tweet',\n",
       " 'hous dem aide: didn’t even see comey’ letter jason chaffetz tweet',\n",
       " 'hous dem aide: didn’t even see comey’ letter jason chaffetz tweet',\n",
       " 'hous dem aide: didn’t even see comey’ letter jason chaffetz tweet',\n",
       " 'hous dem aide: didn’t even see comey’ letter jason chaffetz tweet',\n",
       " 'hous dem aide: didn’t even see comey’ letter jason chaffetz tweet',\n",
       " 'hous dem aide: didn’t even see comey’ letter jason chaffetz tweet',\n",
       " 'hous dem aide: didn’t even see comey’ letter jason chaffetz tweet',\n",
       " 'hous dem aide: didn’t even see comey’ letter jason chaffetz tweet',\n",
       " 'hous dem aide: didn’t even see comey’ letter jason chaffetz tweet',\n",
       " 'hous dem aide: didn’t even see comey’ letter jason chaffetz tweet',\n",
       " 'hous dem aide: didn’t even see comey’ letter jason chaffetz tweet',\n",
       " 'hous dem aide: didn’t even see comey’ letter jason chaffetz tweet',\n",
       " 'hous dem aide: didn’t even see comey’ letter jason chaffetz tweet',\n",
       " 'hous dem aide: didn’t even see comey’ letter jason chaffetz tweet',\n",
       " 'hous dem aide: didn’t even see comey’ letter jason chaffetz tweet',\n",
       " 'hous dem aide: didn’t even see comey’ letter jason chaffetz tweet',\n",
       " 'hous dem aide: didn’t even see comey’ letter jason chaffetz tweet',\n",
       " 'hous dem aide: didn’t even see comey’ letter jason chaffetz tweet',\n",
       " 'hous dem aide: didn’t even see comey’ letter jason chaffetz tweet',\n",
       " 'hous dem aide: didn’t even see comey’ letter jason chaffetz tweet',\n",
       " 'hous dem aide: didn’t even see comey’ letter jason chaffetz tweet',\n",
       " 'hous dem aide: didn’t even see comey’ letter jason chaffetz tweet',\n",
       " 'hous dem aide: didn’t even see comey’ letter jason chaffetz tweet',\n",
       " 'hous dem aide: didn’t even see comey’ letter jason chaffetz tweet',\n",
       " 'hous dem aide: didn’t even see comey’ letter jason chaffetz tweet',\n",
       " 'hous dem aide: didn’t even see comey’ letter jason chaffetz tweet',\n",
       " 'hous dem aide: didn’t even see comey’ letter jason chaffetz tweet',\n",
       " 'hous dem aide: didn’t even see comey’ letter jason chaffetz tweet',\n",
       " 'hous dem aide: didn’t even see comey’ letter jason chaffetz tweet',\n",
       " 'hous dem aide: didn’t even see comey’ letter jason chaffetz tweet',\n",
       " 'hous dem aide: didn’t even see comey’ letter jason chaffetz tweet',\n",
       " 'hous dem aide: didn’t even see comey’ letter jason chaffetz tweet',\n",
       " 'hous dem aide: didn’t even see comey’ letter jason chaffetz tweet',\n",
       " 'hous dem aide: didn’t even see comey’ letter jason chaffetz tweet',\n",
       " 'hous dem aide: didn’t even see comey’ letter jason chaffetz tweet',\n",
       " 'hous dem aide: didn’t even see comey’ letter jason chaffetz tweet',\n",
       " 'hous dem aide: didn’t even see comey’ letter jason chaffetz tweet',\n",
       " 'hous dem aide: didn’t even see comey’ letter jason chaffetz tweet',\n",
       " 'hous dem aide: didn’t even see comey’ letter jason chaffetz tweet',\n",
       " 'hous dem aide: didn’t even see comey’ letter jason chaffetz tweet',\n",
       " 'hous dem aide: didn’t even see comey’ letter jason chaffetz tweet',\n",
       " 'hous dem aide: didn’t even see comey’ letter jason chaffetz tweet',\n",
       " 'hous dem aide: didn’t even see comey’ letter jason chaffetz tweet',\n",
       " 'hous dem aide: didn’t even see comey’ letter jason chaffetz tweet',\n",
       " 'hous dem aide: didn’t even see comey’ letter jason chaffetz tweet',\n",
       " 'hous dem aide: didn’t even see comey’ letter jason chaffetz tweet',\n",
       " 'hous dem aide: didn’t even see comey’ letter jason chaffetz tweet',\n",
       " 'hous dem aide: didn’t even see comey’ letter jason chaffetz tweet',\n",
       " 'hous dem aide: didn’t even see comey’ letter jason chaffetz tweet',\n",
       " 'hous dem aide: didn’t even see comey’ letter jason chaffetz tweet',\n",
       " 'hous dem aide: didn’t even see comey’ letter jason chaffetz tweet',\n",
       " 'hous dem aide: didn’t even see comey’ letter jason chaffetz tweet',\n",
       " 'hous dem aide: didn’t even see comey’ letter jason chaffetz tweet',\n",
       " 'hous dem aide: didn’t even see comey’ letter jason chaffetz tweet',\n",
       " 'hous dem aide: didn’t even see comey’ letter jason chaffetz tweet',\n",
       " 'hous dem aide: didn’t even see comey’ letter jason chaffetz tweet',\n",
       " 'hous dem aide: didn’t even see comey’ letter jason chaffetz tweet',\n",
       " 'hous dem aide: didn’t even see comey’ letter jason chaffetz tweet',\n",
       " 'hous dem aide: didn’t even see comey’ letter jason chaffetz tweet',\n",
       " 'hous dem aide: didn’t even see comey’ letter jason chaffetz tweet',\n",
       " 'hous dem aide: didn’t even see comey’ letter jason chaffetz tweet',\n",
       " 'hous dem aide: didn’t even see comey’ letter jason chaffetz tweet',\n",
       " 'hous dem aide: didn’t even see comey’ letter jason chaffetz tweet',\n",
       " 'hous dem aide: didn’t even see comey’ letter jason chaffetz tweet',\n",
       " 'hous dem aide: didn’t even see comey’ letter jason chaffetz tweet',\n",
       " 'hous dem aide: didn’t even see comey’ letter jason chaffetz tweet',\n",
       " 'hous dem aide: didn’t even see comey’ letter jason chaffetz tweet',\n",
       " 'hous dem aide: didn’t even see comey’ letter jason chaffetz tweet',\n",
       " 'hous dem aide: didn’t even see comey’ letter jason chaffetz tweet',\n",
       " 'hous dem aide: didn’t even see comey’ letter jason chaffetz tweet',\n",
       " 'hous dem aide: didn’t even see comey’ letter jason chaffetz tweet',\n",
       " 'hous dem aide: didn’t even see comey’ letter jason chaffetz tweet',\n",
       " 'hous dem aide: didn’t even see comey’ letter jason chaffetz tweet',\n",
       " 'hous dem aide: didn’t even see comey’ letter jason chaffetz tweet',\n",
       " 'hous dem aide: didn’t even see comey’ letter jason chaffetz tweet',\n",
       " 'hous dem aide: didn’t even see comey’ letter jason chaffetz tweet',\n",
       " 'hous dem aide: didn’t even see comey’ letter jason chaffetz tweet',\n",
       " 'hous dem aide: didn’t even see comey’ letter jason chaffetz tweet',\n",
       " 'hous dem aide: didn’t even see comey’ letter jason chaffetz tweet',\n",
       " 'hous dem aide: didn’t even see comey’ letter jason chaffetz tweet',\n",
       " 'hous dem aide: didn’t even see comey’ letter jason chaffetz tweet',\n",
       " 'hous dem aide: didn’t even see comey’ letter jason chaffetz tweet',\n",
       " 'hous dem aide: didn’t even see comey’ letter jason chaffetz tweet',\n",
       " 'hous dem aide: didn’t even see comey’ letter jason chaffetz tweet',\n",
       " 'hous dem aide: didn’t even see comey’ letter jason chaffetz tweet',\n",
       " 'hous dem aide: didn’t even see comey’ letter jason chaffetz tweet',\n",
       " 'hous dem aide: didn’t even see comey’ letter jason chaffetz tweet',\n",
       " 'hous dem aide: didn’t even see comey’ letter jason chaffetz tweet',\n",
       " 'hous dem aide: didn’t even see comey’ letter jason chaffetz tweet',\n",
       " 'hous dem aide: didn’t even see comey’ letter jason chaffetz tweet',\n",
       " 'hous dem aide: didn’t even see comey’ letter jason chaffetz tweet',\n",
       " 'hous dem aide: didn’t even see comey’ letter jason chaffetz tweet',\n",
       " 'hous dem aide: didn’t even see comey’ letter jason chaffetz tweet',\n",
       " 'hous dem aide: didn’t even see comey’ letter jason chaffetz tweet',\n",
       " 'hous dem aide: didn’t even see comey’ letter jason chaffetz tweet',\n",
       " 'hous dem aide: didn’t even see comey’ letter jason chaffetz tweet',\n",
       " 'hous dem aide: didn’t even see comey’ letter jason chaffetz tweet',\n",
       " 'hous dem aide: didn’t even see comey’ letter jason chaffetz tweet',\n",
       " 'hous dem aide: didn’t even see comey’ letter jason chaffetz tweet',\n",
       " 'hous dem aide: didn’t even see comey’ letter jason chaffetz tweet',\n",
       " 'hous dem aide: didn’t even see comey’ letter jason chaffetz tweet',\n",
       " 'hous dem aide: didn’t even see comey’ letter jason chaffetz tweet',\n",
       " 'hous dem aide: didn’t even see comey’ letter jason chaffetz tweet',\n",
       " 'hous dem aide: didn’t even see comey’ letter jason chaffetz tweet',\n",
       " 'hous dem aide: didn’t even see comey’ letter jason chaffetz tweet',\n",
       " 'hous dem aide: didn’t even see comey’ letter jason chaffetz tweet',\n",
       " 'hous dem aide: didn’t even see comey’ letter jason chaffetz tweet',\n",
       " 'hous dem aide: didn’t even see comey’ letter jason chaffetz tweet',\n",
       " 'hous dem aide: didn’t even see comey’ letter jason chaffetz tweet',\n",
       " 'hous dem aide: didn’t even see comey’ letter jason chaffetz tweet',\n",
       " 'hous dem aide: didn’t even see comey’ letter jason chaffetz tweet',\n",
       " 'hous dem aide: didn’t even see comey’ letter jason chaffetz tweet',\n",
       " 'hous dem aide: didn’t even see comey’ letter jason chaffetz tweet',\n",
       " 'hous dem aide: didn’t even see comey’ letter jason chaffetz tweet',\n",
       " 'hous dem aide: didn’t even see comey’ letter jason chaffetz tweet',\n",
       " 'hous dem aide: didn’t even see comey’ letter jason chaffetz tweet',\n",
       " 'hous dem aide: didn’t even see comey’ letter jason chaffetz tweet',\n",
       " 'hous dem aide: didn’t even see comey’ letter jason chaffetz tweet',\n",
       " 'hous dem aide: didn’t even see comey’ letter jason chaffetz tweet',\n",
       " 'hous dem aide: didn’t even see comey’ letter jason chaffetz tweet',\n",
       " 'hous dem aide: didn’t even see comey’ letter jason chaffetz tweet',\n",
       " 'hous dem aide: didn’t even see comey’ letter jason chaffetz tweet',\n",
       " 'hous dem aide: didn’t even see comey’ letter jason chaffetz tweet',\n",
       " 'hous dem aide: didn’t even see comey’ letter jason chaffetz tweet',\n",
       " 'hous dem aide: didn’t even see comey’ letter jason chaffetz tweet',\n",
       " 'hous dem aide: didn’t even see comey’ letter jason chaffetz tweet',\n",
       " 'hous dem aide: didn’t even see comey’ letter jason chaffetz tweet',\n",
       " 'hous dem aide: didn’t even see comey’ letter jason chaffetz tweet',\n",
       " 'hous dem aide: didn’t even see comey’ letter jason chaffetz tweet',\n",
       " 'hous dem aide: didn’t even see comey’ letter jason chaffetz tweet',\n",
       " 'hous dem aide: didn’t even see comey’ letter jason chaffetz tweet',\n",
       " 'hous dem aide: didn’t even see comey’ letter jason chaffetz tweet',\n",
       " 'hous dem aide: didn’t even see comey’ letter jason chaffetz tweet',\n",
       " 'hous dem aide: didn’t even see comey’ letter jason chaffetz tweet',\n",
       " 'hous dem aide: didn’t even see comey’ letter jason chaffetz tweet',\n",
       " 'hous dem aide: didn’t even see comey’ letter jason chaffetz tweet',\n",
       " 'hous dem aide: didn’t even see comey’ letter jason chaffetz tweet',\n",
       " 'hous dem aide: didn’t even see comey’ letter jason chaffetz tweet',\n",
       " 'hous dem aide: didn’t even see comey’ letter jason chaffetz tweet',\n",
       " 'hous dem aide: didn’t even see comey’ letter jason chaffetz tweet',\n",
       " 'hous dem aide: didn’t even see comey’ letter jason chaffetz tweet',\n",
       " 'hous dem aide: didn’t even see comey’ letter jason chaffetz tweet',\n",
       " 'hous dem aide: didn’t even see comey’ letter jason chaffetz tweet',\n",
       " 'hous dem aide: didn’t even see comey’ letter jason chaffetz tweet',\n",
       " 'hous dem aide: didn’t even see comey’ letter jason chaffetz tweet',\n",
       " 'hous dem aide: didn’t even see comey’ letter jason chaffetz tweet',\n",
       " 'hous dem aide: didn’t even see comey’ letter jason chaffetz tweet',\n",
       " 'hous dem aide: didn’t even see comey’ letter jason chaffetz tweet',\n",
       " 'hous dem aide: didn’t even see comey’ letter jason chaffetz tweet',\n",
       " 'hous dem aide: didn’t even see comey’ letter jason chaffetz tweet',\n",
       " 'hous dem aide: didn’t even see comey’ letter jason chaffetz tweet',\n",
       " 'hous dem aide: didn’t even see comey’ letter jason chaffetz tweet',\n",
       " 'hous dem aide: didn’t even see comey’ letter jason chaffetz tweet',\n",
       " 'hous dem aide: didn’t even see comey’ letter jason chaffetz tweet',\n",
       " 'hous dem aide: didn’t even see comey’ letter jason chaffetz tweet',\n",
       " 'hous dem aide: didn’t even see comey’ letter jason chaffetz tweet',\n",
       " 'hous dem aide: didn’t even see comey’ letter jason chaffetz tweet',\n",
       " 'hous dem aide: didn’t even see comey’ letter jason chaffetz tweet',\n",
       " 'hous dem aide: didn’t even see comey’ letter jason chaffetz tweet',\n",
       " 'hous dem aide: didn’t even see comey’ letter jason chaffetz tweet',\n",
       " 'hous dem aide: didn’t even see comey’ letter jason chaffetz tweet',\n",
       " 'hous dem aide: didn’t even see comey’ letter jason chaffetz tweet',\n",
       " 'hous dem aide: didn’t even see comey’ letter jason chaffetz tweet',\n",
       " 'hous dem aide: didn’t even see comey’ letter jason chaffetz tweet',\n",
       " 'hous dem aide: didn’t even see comey’ letter jason chaffetz tweet',\n",
       " 'hous dem aide: didn’t even see comey’ letter jason chaffetz tweet',\n",
       " 'hous dem aide: didn’t even see comey’ letter jason chaffetz tweet',\n",
       " 'hous dem aide: didn’t even see comey’ letter jason chaffetz tweet',\n",
       " 'hous dem aide: didn’t even see comey’ letter jason chaffetz tweet',\n",
       " 'hous dem aide: didn’t even see comey’ letter jason chaffetz tweet',\n",
       " 'hous dem aide: didn’t even see comey’ letter jason chaffetz tweet',\n",
       " 'hous dem aide: didn’t even see comey’ letter jason chaffetz tweet',\n",
       " 'hous dem aide: didn’t even see comey’ letter jason chaffetz tweet',\n",
       " 'hous dem aide: didn’t even see comey’ letter jason chaffetz tweet',\n",
       " 'hous dem aide: didn’t even see comey’ letter jason chaffetz tweet',\n",
       " 'hous dem aide: didn’t even see comey’ letter jason chaffetz tweet',\n",
       " 'hous dem aide: didn’t even see comey’ letter jason chaffetz tweet',\n",
       " 'hous dem aide: didn’t even see comey’ letter jason chaffetz tweet',\n",
       " 'hous dem aide: didn’t even see comey’ letter jason chaffetz tweet',\n",
       " 'hous dem aide: didn’t even see comey’ letter jason chaffetz tweet',\n",
       " 'hous dem aide: didn’t even see comey’ letter jason chaffetz tweet',\n",
       " 'hous dem aide: didn’t even see comey’ letter jason chaffetz tweet',\n",
       " 'hous dem aide: didn’t even see comey’ letter jason chaffetz tweet',\n",
       " 'hous dem aide: didn’t even see comey’ letter jason chaffetz tweet',\n",
       " 'hous dem aide: didn’t even see comey’ letter jason chaffetz tweet',\n",
       " 'hous dem aide: didn’t even see comey’ letter jason chaffetz tweet',\n",
       " 'hous dem aide: didn’t even see comey’ letter jason chaffetz tweet',\n",
       " 'hous dem aide: didn’t even see comey’ letter jason chaffetz tweet',\n",
       " 'hous dem aide: didn’t even see comey’ letter jason chaffetz tweet',\n",
       " 'hous dem aide: didn’t even see comey’ letter jason chaffetz tweet',\n",
       " 'hous dem aide: didn’t even see comey’ letter jason chaffetz tweet',\n",
       " 'hous dem aide: didn’t even see comey’ letter jason chaffetz tweet',\n",
       " 'hous dem aide: didn’t even see comey’ letter jason chaffetz tweet',\n",
       " 'hous dem aide: didn’t even see comey’ letter jason chaffetz tweet',\n",
       " 'hous dem aide: didn’t even see comey’ letter jason chaffetz tweet',\n",
       " 'hous dem aide: didn’t even see comey’ letter jason chaffetz tweet',\n",
       " 'hous dem aide: didn’t even see comey’ letter jason chaffetz tweet',\n",
       " 'hous dem aide: didn’t even see comey’ letter jason chaffetz tweet',\n",
       " 'hous dem aide: didn’t even see comey’ letter jason chaffetz tweet',\n",
       " 'hous dem aide: didn’t even see comey’ letter jason chaffetz tweet',\n",
       " 'hous dem aide: didn’t even see comey’ letter jason chaffetz tweet',\n",
       " 'hous dem aide: didn’t even see comey’ letter jason chaffetz tweet',\n",
       " 'hous dem aide: didn’t even see comey’ letter jason chaffetz tweet',\n",
       " 'hous dem aide: didn’t even see comey’ letter jason chaffetz tweet',\n",
       " 'hous dem aide: didn’t even see comey’ letter jason chaffetz tweet',\n",
       " 'hous dem aide: didn’t even see comey’ letter jason chaffetz tweet',\n",
       " 'hous dem aide: didn’t even see comey’ letter jason chaffetz tweet',\n",
       " 'hous dem aide: didn’t even see comey’ letter jason chaffetz tweet',\n",
       " 'hous dem aide: didn’t even see comey’ letter jason chaffetz tweet',\n",
       " 'hous dem aide: didn’t even see comey’ letter jason chaffetz tweet',\n",
       " 'hous dem aide: didn’t even see comey’ letter jason chaffetz tweet',\n",
       " 'hous dem aide: didn’t even see comey’ letter jason chaffetz tweet',\n",
       " 'hous dem aide: didn’t even see comey’ letter jason chaffetz tweet',\n",
       " 'hous dem aide: didn’t even see comey’ letter jason chaffetz tweet',\n",
       " 'hous dem aide: didn’t even see comey’ letter jason chaffetz tweet',\n",
       " 'hous dem aide: didn’t even see comey’ letter jason chaffetz tweet',\n",
       " 'hous dem aide: didn’t even see comey’ letter jason chaffetz tweet',\n",
       " 'hous dem aide: didn’t even see comey’ letter jason chaffetz tweet',\n",
       " 'hous dem aide: didn’t even see comey’ letter jason chaffetz tweet',\n",
       " 'hous dem aide: didn’t even see comey’ letter jason chaffetz tweet',\n",
       " 'hous dem aide: didn’t even see comey’ letter jason chaffetz tweet',\n",
       " 'hous dem aide: didn’t even see comey’ letter jason chaffetz tweet',\n",
       " 'hous dem aide: didn’t even see comey’ letter jason chaffetz tweet',\n",
       " 'hous dem aide: didn’t even see comey’ letter jason chaffetz tweet',\n",
       " 'hous dem aide: didn’t even see comey’ letter jason chaffetz tweet',\n",
       " 'hous dem aide: didn’t even see comey’ letter jason chaffetz tweet',\n",
       " 'hous dem aide: didn’t even see comey’ letter jason chaffetz tweet',\n",
       " 'hous dem aide: didn’t even see comey’ letter jason chaffetz tweet',\n",
       " 'hous dem aide: didn’t even see comey’ letter jason chaffetz tweet',\n",
       " 'hous dem aide: didn’t even see comey’ letter jason chaffetz tweet',\n",
       " 'hous dem aide: didn’t even see comey’ letter jason chaffetz tweet',\n",
       " 'hous dem aide: didn’t even see comey’ letter jason chaffetz tweet',\n",
       " 'hous dem aide: didn’t even see comey’ letter jason chaffetz tweet',\n",
       " 'hous dem aide: didn’t even see comey’ letter jason chaffetz tweet',\n",
       " 'hous dem aide: didn’t even see comey’ letter jason chaffetz tweet',\n",
       " 'hous dem aide: didn’t even see comey’ letter jason chaffetz tweet',\n",
       " 'hous dem aide: didn’t even see comey’ letter jason chaffetz tweet',\n",
       " 'hous dem aide: didn’t even see comey’ letter jason chaffetz tweet',\n",
       " 'hous dem aide: didn’t even see comey’ letter jason chaffetz tweet',\n",
       " 'hous dem aide: didn’t even see comey’ letter jason chaffetz tweet',\n",
       " 'hous dem aide: didn’t even see comey’ letter jason chaffetz tweet',\n",
       " 'hous dem aide: didn’t even see comey’ letter jason chaffetz tweet',\n",
       " 'hous dem aide: didn’t even see comey’ letter jason chaffetz tweet',\n",
       " 'hous dem aide: didn’t even see comey’ letter jason chaffetz tweet',\n",
       " 'hous dem aide: didn’t even see comey’ letter jason chaffetz tweet',\n",
       " 'hous dem aide: didn’t even see comey’ letter jason chaffetz tweet',\n",
       " 'hous dem aide: didn’t even see comey’ letter jason chaffetz tweet',\n",
       " 'hous dem aide: didn’t even see comey’ letter jason chaffetz tweet',\n",
       " 'hous dem aide: didn’t even see comey’ letter jason chaffetz tweet',\n",
       " 'hous dem aide: didn’t even see comey’ letter jason chaffetz tweet',\n",
       " 'hous dem aide: didn’t even see comey’ letter jason chaffetz tweet',\n",
       " 'hous dem aide: didn’t even see comey’ letter jason chaffetz tweet',\n",
       " 'hous dem aide: didn’t even see comey’ letter jason chaffetz tweet',\n",
       " 'hous dem aide: didn’t even see comey’ letter jason chaffetz tweet',\n",
       " 'hous dem aide: didn’t even see comey’ letter jason chaffetz tweet',\n",
       " 'hous dem aide: didn’t even see comey’ letter jason chaffetz tweet',\n",
       " 'hous dem aide: didn’t even see comey’ letter jason chaffetz tweet',\n",
       " 'hous dem aide: didn’t even see comey’ letter jason chaffetz tweet',\n",
       " 'hous dem aide: didn’t even see comey’ letter jason chaffetz tweet',\n",
       " 'hous dem aide: didn’t even see comey’ letter jason chaffetz tweet',\n",
       " 'hous dem aide: didn’t even see comey’ letter jason chaffetz tweet',\n",
       " 'hous dem aide: didn’t even see comey’ letter jason chaffetz tweet',\n",
       " 'hous dem aide: didn’t even see comey’ letter jason chaffetz tweet',\n",
       " 'hous dem aide: didn’t even see comey’ letter jason chaffetz tweet',\n",
       " 'hous dem aide: didn’t even see comey’ letter jason chaffetz tweet',\n",
       " 'hous dem aide: didn’t even see comey’ letter jason chaffetz tweet',\n",
       " 'hous dem aide: didn’t even see comey’ letter jason chaffetz tweet',\n",
       " 'hous dem aide: didn’t even see comey’ letter jason chaffetz tweet',\n",
       " 'hous dem aide: didn’t even see comey’ letter jason chaffetz tweet',\n",
       " 'hous dem aide: didn’t even see comey’ letter jason chaffetz tweet',\n",
       " 'hous dem aide: didn’t even see comey’ letter jason chaffetz tweet',\n",
       " 'hous dem aide: didn’t even see comey’ letter jason chaffetz tweet',\n",
       " 'hous dem aide: didn’t even see comey’ letter jason chaffetz tweet',\n",
       " 'hous dem aide: didn’t even see comey’ letter jason chaffetz tweet',\n",
       " 'hous dem aide: didn’t even see comey’ letter jason chaffetz tweet',\n",
       " 'hous dem aide: didn’t even see comey’ letter jason chaffetz tweet',\n",
       " 'hous dem aide: didn’t even see comey’ letter jason chaffetz tweet',\n",
       " 'hous dem aide: didn’t even see comey’ letter jason chaffetz tweet',\n",
       " 'hous dem aide: didn’t even see comey’ letter jason chaffetz tweet',\n",
       " 'hous dem aide: didn’t even see comey’ letter jason chaffetz tweet',\n",
       " 'hous dem aide: didn’t even see comey’ letter jason chaffetz tweet',\n",
       " 'hous dem aide: didn’t even see comey’ letter jason chaffetz tweet',\n",
       " 'hous dem aide: didn’t even see comey’ letter jason chaffetz tweet',\n",
       " 'hous dem aide: didn’t even see comey’ letter jason chaffetz tweet',\n",
       " 'hous dem aide: didn’t even see comey’ letter jason chaffetz tweet',\n",
       " 'hous dem aide: didn’t even see comey’ letter jason chaffetz tweet',\n",
       " 'hous dem aide: didn’t even see comey’ letter jason chaffetz tweet',\n",
       " 'hous dem aide: didn’t even see comey’ letter jason chaffetz tweet',\n",
       " 'hous dem aide: didn’t even see comey’ letter jason chaffetz tweet',\n",
       " 'hous dem aide: didn’t even see comey’ letter jason chaffetz tweet',\n",
       " 'hous dem aide: didn’t even see comey’ letter jason chaffetz tweet',\n",
       " 'hous dem aide: didn’t even see comey’ letter jason chaffetz tweet',\n",
       " 'hous dem aide: didn’t even see comey’ letter jason chaffetz tweet',\n",
       " 'hous dem aide: didn’t even see comey’ letter jason chaffetz tweet',\n",
       " 'hous dem aide: didn’t even see comey’ letter jason chaffetz tweet',\n",
       " 'hous dem aide: didn’t even see comey’ letter jason chaffetz tweet',\n",
       " 'hous dem aide: didn’t even see comey’ letter jason chaffetz tweet',\n",
       " 'hous dem aide: didn’t even see comey’ letter jason chaffetz tweet',\n",
       " 'hous dem aide: didn’t even see comey’ letter jason chaffetz tweet',\n",
       " 'hous dem aide: didn’t even see comey’ letter jason chaffetz tweet',\n",
       " 'hous dem aide: didn’t even see comey’ letter jason chaffetz tweet',\n",
       " 'hous dem aide: didn’t even see comey’ letter jason chaffetz tweet',\n",
       " 'hous dem aide: didn’t even see comey’ letter jason chaffetz tweet',\n",
       " 'hous dem aide: didn’t even see comey’ letter jason chaffetz tweet',\n",
       " 'hous dem aide: didn’t even see comey’ letter jason chaffetz tweet',\n",
       " 'hous dem aide: didn’t even see comey’ letter jason chaffetz tweet',\n",
       " 'hous dem aide: didn’t even see comey’ letter jason chaffetz tweet',\n",
       " 'hous dem aide: didn’t even see comey’ letter jason chaffetz tweet',\n",
       " 'hous dem aide: didn’t even see comey’ letter jason chaffetz tweet',\n",
       " 'hous dem aide: didn’t even see comey’ letter jason chaffetz tweet',\n",
       " 'hous dem aide: didn’t even see comey’ letter jason chaffetz tweet',\n",
       " 'hous dem aide: didn’t even see comey’ letter jason chaffetz tweet',\n",
       " 'hous dem aide: didn’t even see comey’ letter jason chaffetz tweet',\n",
       " 'hous dem aide: didn’t even see comey’ letter jason chaffetz tweet',\n",
       " 'hous dem aide: didn’t even see comey’ letter jason chaffetz tweet',\n",
       " 'hous dem aide: didn’t even see comey’ letter jason chaffetz tweet',\n",
       " 'hous dem aide: didn’t even see comey’ letter jason chaffetz tweet',\n",
       " 'hous dem aide: didn’t even see comey’ letter jason chaffetz tweet',\n",
       " 'hous dem aide: didn’t even see comey’ letter jason chaffetz tweet',\n",
       " 'hous dem aide: didn’t even see comey’ letter jason chaffetz tweet',\n",
       " 'hous dem aide: didn’t even see comey’ letter jason chaffetz tweet',\n",
       " 'hous dem aide: didn’t even see comey’ letter jason chaffetz tweet',\n",
       " 'hous dem aide: didn’t even see comey’ letter jason chaffetz tweet',\n",
       " 'hous dem aide: didn’t even see comey’ letter jason chaffetz tweet',\n",
       " 'hous dem aide: didn’t even see comey’ letter jason chaffetz tweet',\n",
       " 'hous dem aide: didn’t even see comey’ letter jason chaffetz tweet',\n",
       " 'hous dem aide: didn’t even see comey’ letter jason chaffetz tweet',\n",
       " 'hous dem aide: didn’t even see comey’ letter jason chaffetz tweet',\n",
       " 'hous dem aide: didn’t even see comey’ letter jason chaffetz tweet',\n",
       " 'hous dem aide: didn’t even see comey’ letter jason chaffetz tweet',\n",
       " 'hous dem aide: didn’t even see comey’ letter jason chaffetz tweet',\n",
       " 'hous dem aide: didn’t even see comey’ letter jason chaffetz tweet',\n",
       " 'hous dem aide: didn’t even see comey’ letter jason chaffetz tweet',\n",
       " 'hous dem aide: didn’t even see comey’ letter jason chaffetz tweet',\n",
       " 'hous dem aide: didn’t even see comey’ letter jason chaffetz tweet',\n",
       " 'hous dem aide: didn’t even see comey’ letter jason chaffetz tweet',\n",
       " 'hous dem aide: didn’t even see comey’ letter jason chaffetz tweet',\n",
       " 'hous dem aide: didn’t even see comey’ letter jason chaffetz tweet',\n",
       " 'hous dem aide: didn’t even see comey’ letter jason chaffetz tweet',\n",
       " 'hous dem aide: didn’t even see comey’ letter jason chaffetz tweet',\n",
       " 'hous dem aide: didn’t even see comey’ letter jason chaffetz tweet',\n",
       " 'hous dem aide: didn’t even see comey’ letter jason chaffetz tweet',\n",
       " 'hous dem aide: didn’t even see comey’ letter jason chaffetz tweet',\n",
       " 'hous dem aide: didn’t even see comey’ letter jason chaffetz tweet',\n",
       " 'hous dem aide: didn’t even see comey’ letter jason chaffetz tweet',\n",
       " 'hous dem aide: didn’t even see comey’ letter jason chaffetz tweet',\n",
       " 'hous dem aide: didn’t even see comey’ letter jason chaffetz tweet',\n",
       " 'hous dem aide: didn’t even see comey’ letter jason chaffetz tweet',\n",
       " 'hous dem aide: didn’t even see comey’ letter jason chaffetz tweet',\n",
       " 'hous dem aide: didn’t even see comey’ letter jason chaffetz tweet',\n",
       " 'hous dem aide: didn’t even see comey’ letter jason chaffetz tweet',\n",
       " 'hous dem aide: didn’t even see comey’ letter jason chaffetz tweet',\n",
       " 'hous dem aide: didn’t even see comey’ letter jason chaffetz tweet',\n",
       " 'hous dem aide: didn’t even see comey’ letter jason chaffetz tweet',\n",
       " 'hous dem aide: didn’t even see comey’ letter jason chaffetz tweet',\n",
       " 'hous dem aide: didn’t even see comey’ letter jason chaffetz tweet',\n",
       " 'hous dem aide: didn’t even see comey’ letter jason chaffetz tweet',\n",
       " 'hous dem aide: didn’t even see comey’ letter jason chaffetz tweet',\n",
       " 'hous dem aide: didn’t even see comey’ letter jason chaffetz tweet',\n",
       " 'hous dem aide: didn’t even see comey’ letter jason chaffetz tweet',\n",
       " 'hous dem aide: didn’t even see comey’ letter jason chaffetz tweet',\n",
       " 'hous dem aide: didn’t even see comey’ letter jason chaffetz tweet',\n",
       " 'hous dem aide: didn’t even see comey’ letter jason chaffetz tweet',\n",
       " 'hous dem aide: didn’t even see comey’ letter jason chaffetz tweet',\n",
       " 'hous dem aide: didn’t even see comey’ letter jason chaffetz tweet',\n",
       " 'hous dem aide: didn’t even see comey’ letter jason chaffetz tweet',\n",
       " 'hous dem aide: didn’t even see comey’ letter jason chaffetz tweet',\n",
       " 'hous dem aide: didn’t even see comey’ letter jason chaffetz tweet',\n",
       " 'hous dem aide: didn’t even see comey’ letter jason chaffetz tweet',\n",
       " 'hous dem aide: didn’t even see comey’ letter jason chaffetz tweet',\n",
       " 'hous dem aide: didn’t even see comey’ letter jason chaffetz tweet',\n",
       " 'hous dem aide: didn’t even see comey’ letter jason chaffetz tweet',\n",
       " 'hous dem aide: didn’t even see comey’ letter jason chaffetz tweet',\n",
       " 'hous dem aide: didn’t even see comey’ letter jason chaffetz tweet',\n",
       " 'hous dem aide: didn’t even see comey’ letter jason chaffetz tweet',\n",
       " 'hous dem aide: didn’t even see comey’ letter jason chaffetz tweet',\n",
       " 'hous dem aide: didn’t even see comey’ letter jason chaffetz tweet',\n",
       " 'hous dem aide: didn’t even see comey’ letter jason chaffetz tweet',\n",
       " 'hous dem aide: didn’t even see comey’ letter jason chaffetz tweet',\n",
       " 'hous dem aide: didn’t even see comey’ letter jason chaffetz tweet',\n",
       " 'hous dem aide: didn’t even see comey’ letter jason chaffetz tweet',\n",
       " 'hous dem aide: didn’t even see comey’ letter jason chaffetz tweet',\n",
       " 'hous dem aide: didn’t even see comey’ letter jason chaffetz tweet',\n",
       " 'hous dem aide: didn’t even see comey’ letter jason chaffetz tweet',\n",
       " 'hous dem aide: didn’t even see comey’ letter jason chaffetz tweet',\n",
       " 'hous dem aide: didn’t even see comey’ letter jason chaffetz tweet',\n",
       " 'hous dem aide: didn’t even see comey’ letter jason chaffetz tweet',\n",
       " 'hous dem aide: didn’t even see comey’ letter jason chaffetz tweet',\n",
       " 'hous dem aide: didn’t even see comey’ letter jason chaffetz tweet',\n",
       " 'hous dem aide: didn’t even see comey’ letter jason chaffetz tweet',\n",
       " 'hous dem aide: didn’t even see comey’ letter jason chaffetz tweet',\n",
       " 'hous dem aide: didn’t even see comey’ letter jason chaffetz tweet',\n",
       " 'hous dem aide: didn’t even see comey’ letter jason chaffetz tweet',\n",
       " 'hous dem aide: didn’t even see comey’ letter jason chaffetz tweet',\n",
       " 'hous dem aide: didn’t even see comey’ letter jason chaffetz tweet',\n",
       " 'hous dem aide: didn’t even see comey’ letter jason chaffetz tweet',\n",
       " 'hous dem aide: didn’t even see comey’ letter jason chaffetz tweet',\n",
       " 'hous dem aide: didn’t even see comey’ letter jason chaffetz tweet',\n",
       " 'hous dem aide: didn’t even see comey’ letter jason chaffetz tweet',\n",
       " 'hous dem aide: didn’t even see comey’ letter jason chaffetz tweet',\n",
       " 'hous dem aide: didn’t even see comey’ letter jason chaffetz tweet',\n",
       " 'hous dem aide: didn’t even see comey’ letter jason chaffetz tweet',\n",
       " 'hous dem aide: didn’t even see comey’ letter jason chaffetz tweet',\n",
       " 'hous dem aide: didn’t even see comey’ letter jason chaffetz tweet',\n",
       " 'hous dem aide: didn’t even see comey’ letter jason chaffetz tweet',\n",
       " 'hous dem aide: didn’t even see comey’ letter jason chaffetz tweet',\n",
       " 'hous dem aide: didn’t even see comey’ letter jason chaffetz tweet',\n",
       " 'hous dem aide: didn’t even see comey’ letter jason chaffetz tweet',\n",
       " 'hous dem aide: didn’t even see comey’ letter jason chaffetz tweet',\n",
       " 'hous dem aide: didn’t even see comey’ letter jason chaffetz tweet',\n",
       " 'hous dem aide: didn’t even see comey’ letter jason chaffetz tweet',\n",
       " 'hous dem aide: didn’t even see comey’ letter jason chaffetz tweet',\n",
       " 'hous dem aide: didn’t even see comey’ letter jason chaffetz tweet',\n",
       " 'hous dem aide: didn’t even see comey’ letter jason chaffetz tweet',\n",
       " 'hous dem aide: didn’t even see comey’ letter jason chaffetz tweet',\n",
       " 'hous dem aide: didn’t even see comey’ letter jason chaffetz tweet',\n",
       " 'hous dem aide: didn’t even see comey’ letter jason chaffetz tweet',\n",
       " 'hous dem aide: didn’t even see comey’ letter jason chaffetz tweet',\n",
       " 'hous dem aide: didn’t even see comey’ letter jason chaffetz tweet',\n",
       " 'hous dem aide: didn’t even see comey’ letter jason chaffetz tweet',\n",
       " 'hous dem aide: didn’t even see comey’ letter jason chaffetz tweet',\n",
       " 'hous dem aide: didn’t even see comey’ letter jason chaffetz tweet',\n",
       " 'hous dem aide: didn’t even see comey’ letter jason chaffetz tweet',\n",
       " 'hous dem aide: didn’t even see comey’ letter jason chaffetz tweet',\n",
       " 'hous dem aide: didn’t even see comey’ letter jason chaffetz tweet',\n",
       " 'hous dem aide: didn’t even see comey’ letter jason chaffetz tweet',\n",
       " 'hous dem aide: didn’t even see comey’ letter jason chaffetz tweet',\n",
       " 'hous dem aide: didn’t even see comey’ letter jason chaffetz tweet',\n",
       " 'hous dem aide: didn’t even see comey’ letter jason chaffetz tweet',\n",
       " 'hous dem aide: didn’t even see comey’ letter jason chaffetz tweet',\n",
       " 'hous dem aide: didn’t even see comey’ letter jason chaffetz tweet',\n",
       " 'hous dem aide: didn’t even see comey’ letter jason chaffetz tweet',\n",
       " 'hous dem aide: didn’t even see comey’ letter jason chaffetz tweet',\n",
       " 'hous dem aide: didn’t even see comey’ letter jason chaffetz tweet',\n",
       " 'hous dem aide: didn’t even see comey’ letter jason chaffetz tweet',\n",
       " 'hous dem aide: didn’t even see comey’ letter jason chaffetz tweet',\n",
       " 'hous dem aide: didn’t even see comey’ letter jason chaffetz tweet',\n",
       " 'hous dem aide: didn’t even see comey’ letter jason chaffetz tweet',\n",
       " 'hous dem aide: didn’t even see comey’ letter jason chaffetz tweet',\n",
       " 'hous dem aide: didn’t even see comey’ letter jason chaffetz tweet',\n",
       " 'hous dem aide: didn’t even see comey’ letter jason chaffetz tweet',\n",
       " 'hous dem aide: didn’t even see comey’ letter jason chaffetz tweet',\n",
       " 'hous dem aide: didn’t even see comey’ letter jason chaffetz tweet',\n",
       " 'hous dem aide: didn’t even see comey’ letter jason chaffetz tweet',\n",
       " 'hous dem aide: didn’t even see comey’ letter jason chaffetz tweet',\n",
       " 'hous dem aide: didn’t even see comey’ letter jason chaffetz tweet',\n",
       " 'hous dem aide: didn’t even see comey’ letter jason chaffetz tweet',\n",
       " 'hous dem aide: didn’t even see comey’ letter jason chaffetz tweet',\n",
       " 'hous dem aide: didn’t even see comey’ letter jason chaffetz tweet',\n",
       " 'hous dem aide: didn’t even see comey’ letter jason chaffetz tweet',\n",
       " 'hous dem aide: didn’t even see comey’ letter jason chaffetz tweet',\n",
       " 'hous dem aide: didn’t even see comey’ letter jason chaffetz tweet',\n",
       " 'hous dem aide: didn’t even see comey’ letter jason chaffetz tweet',\n",
       " 'hous dem aide: didn’t even see comey’ letter jason chaffetz tweet',\n",
       " 'hous dem aide: didn’t even see comey’ letter jason chaffetz tweet',\n",
       " 'hous dem aide: didn’t even see comey’ letter jason chaffetz tweet',\n",
       " 'hous dem aide: didn’t even see comey’ letter jason chaffetz tweet',\n",
       " 'hous dem aide: didn’t even see comey’ letter jason chaffetz tweet',\n",
       " 'hous dem aide: didn’t even see comey’ letter jason chaffetz tweet',\n",
       " 'hous dem aide: didn’t even see comey’ letter jason chaffetz tweet',\n",
       " 'hous dem aide: didn’t even see comey’ letter jason chaffetz tweet',\n",
       " 'hous dem aide: didn’t even see comey’ letter jason chaffetz tweet',\n",
       " 'hous dem aide: didn’t even see comey’ letter jason chaffetz tweet',\n",
       " 'hous dem aide: didn’t even see comey’ letter jason chaffetz tweet',\n",
       " 'hous dem aide: didn’t even see comey’ letter jason chaffetz tweet',\n",
       " 'hous dem aide: didn’t even see comey’ letter jason chaffetz tweet',\n",
       " 'hous dem aide: didn’t even see comey’ letter jason chaffetz tweet',\n",
       " 'hous dem aide: didn’t even see comey’ letter jason chaffetz tweet',\n",
       " 'hous dem aide: didn’t even see comey’ letter jason chaffetz tweet',\n",
       " 'hous dem aide: didn’t even see comey’ letter jason chaffetz tweet',\n",
       " 'hous dem aide: didn’t even see comey’ letter jason chaffetz tweet',\n",
       " 'hous dem aide: didn’t even see comey’ letter jason chaffetz tweet',\n",
       " 'hous dem aide: didn’t even see comey’ letter jason chaffetz tweet',\n",
       " 'hous dem aide: didn’t even see comey’ letter jason chaffetz tweet',\n",
       " 'hous dem aide: didn’t even see comey’ letter jason chaffetz tweet',\n",
       " 'hous dem aide: didn’t even see comey’ letter jason chaffetz tweet',\n",
       " 'hous dem aide: didn’t even see comey’ letter jason chaffetz tweet',\n",
       " 'hous dem aide: didn’t even see comey’ letter jason chaffetz tweet',\n",
       " 'hous dem aide: didn’t even see comey’ letter jason chaffetz tweet',\n",
       " 'hous dem aide: didn’t even see comey’ letter jason chaffetz tweet',\n",
       " 'hous dem aide: didn’t even see comey’ letter jason chaffetz tweet',\n",
       " 'hous dem aide: didn’t even see comey’ letter jason chaffetz tweet',\n",
       " 'hous dem aide: didn’t even see comey’ letter jason chaffetz tweet',\n",
       " 'hous dem aide: didn’t even see comey’ letter jason chaffetz tweet',\n",
       " 'hous dem aide: didn’t even see comey’ letter jason chaffetz tweet',\n",
       " 'hous dem aide: didn’t even see comey’ letter jason chaffetz tweet',\n",
       " 'hous dem aide: didn’t even see comey’ letter jason chaffetz tweet',\n",
       " 'hous dem aide: didn’t even see comey’ letter jason chaffetz tweet',\n",
       " 'hous dem aide: didn’t even see comey’ letter jason chaffetz tweet',\n",
       " 'hous dem aide: didn’t even see comey’ letter jason chaffetz tweet',\n",
       " 'hous dem aide: didn’t even see comey’ letter jason chaffetz tweet',\n",
       " 'hous dem aide: didn’t even see comey’ letter jason chaffetz tweet',\n",
       " 'hous dem aide: didn’t even see comey’ letter jason chaffetz tweet',\n",
       " 'hous dem aide: didn’t even see comey’ letter jason chaffetz tweet',\n",
       " 'hous dem aide: didn’t even see comey’ letter jason chaffetz tweet',\n",
       " 'hous dem aide: didn’t even see comey’ letter jason chaffetz tweet',\n",
       " 'hous dem aide: didn’t even see comey’ letter jason chaffetz tweet',\n",
       " 'hous dem aide: didn’t even see comey’ letter jason chaffetz tweet',\n",
       " 'hous dem aide: didn’t even see comey’ letter jason chaffetz tweet',\n",
       " 'hous dem aide: didn’t even see comey’ letter jason chaffetz tweet',\n",
       " 'hous dem aide: didn’t even see comey’ letter jason chaffetz tweet',\n",
       " 'hous dem aide: didn’t even see comey’ letter jason chaffetz tweet',\n",
       " 'hous dem aide: didn’t even see comey’ letter jason chaffetz tweet',\n",
       " 'hous dem aide: didn’t even see comey’ letter jason chaffetz tweet',\n",
       " 'hous dem aide: didn’t even see comey’ letter jason chaffetz tweet',\n",
       " 'hous dem aide: didn’t even see comey’ letter jason chaffetz tweet',\n",
       " 'hous dem aide: didn’t even see comey’ letter jason chaffetz tweet',\n",
       " 'hous dem aide: didn’t even see comey’ letter jason chaffetz tweet',\n",
       " 'hous dem aide: didn’t even see comey’ letter jason chaffetz tweet',\n",
       " 'hous dem aide: didn’t even see comey’ letter jason chaffetz tweet',\n",
       " 'hous dem aide: didn’t even see comey’ letter jason chaffetz tweet',\n",
       " 'hous dem aide: didn’t even see comey’ letter jason chaffetz tweet',\n",
       " 'hous dem aide: didn’t even see comey’ letter jason chaffetz tweet',\n",
       " 'hous dem aide: didn’t even see comey’ letter jason chaffetz tweet',\n",
       " 'hous dem aide: didn’t even see comey’ letter jason chaffetz tweet',\n",
       " 'hous dem aide: didn’t even see comey’ letter jason chaffetz tweet',\n",
       " 'hous dem aide: didn’t even see comey’ letter jason chaffetz tweet',\n",
       " 'hous dem aide: didn’t even see comey’ letter jason chaffetz tweet',\n",
       " 'hous dem aide: didn’t even see comey’ letter jason chaffetz tweet',\n",
       " 'hous dem aide: didn’t even see comey’ letter jason chaffetz tweet',\n",
       " 'hous dem aide: didn’t even see comey’ letter jason chaffetz tweet',\n",
       " 'hous dem aide: didn’t even see comey’ letter jason chaffetz tweet',\n",
       " 'hous dem aide: didn’t even see comey’ letter jason chaffetz tweet',\n",
       " 'hous dem aide: didn’t even see comey’ letter jason chaffetz tweet',\n",
       " 'hous dem aide: didn’t even see comey’ letter jason chaffetz tweet',\n",
       " 'hous dem aide: didn’t even see comey’ letter jason chaffetz tweet',\n",
       " 'hous dem aide: didn’t even see comey’ letter jason chaffetz tweet',\n",
       " 'hous dem aide: didn’t even see comey’ letter jason chaffetz tweet',\n",
       " 'hous dem aide: didn’t even see comey’ letter jason chaffetz tweet',\n",
       " 'hous dem aide: didn’t even see comey’ letter jason chaffetz tweet',\n",
       " 'hous dem aide: didn’t even see comey’ letter jason chaffetz tweet',\n",
       " 'hous dem aide: didn’t even see comey’ letter jason chaffetz tweet',\n",
       " 'hous dem aide: didn’t even see comey’ letter jason chaffetz tweet',\n",
       " 'hous dem aide: didn’t even see comey’ letter jason chaffetz tweet',\n",
       " 'hous dem aide: didn’t even see comey’ letter jason chaffetz tweet',\n",
       " 'hous dem aide: didn’t even see comey’ letter jason chaffetz tweet',\n",
       " 'hous dem aide: didn’t even see comey’ letter jason chaffetz tweet',\n",
       " 'hous dem aide: didn’t even see comey’ letter jason chaffetz tweet',\n",
       " 'hous dem aide: didn’t even see comey’ letter jason chaffetz tweet',\n",
       " 'hous dem aide: didn’t even see comey’ letter jason chaffetz tweet',\n",
       " 'hous dem aide: didn’t even see comey’ letter jason chaffetz tweet',\n",
       " 'hous dem aide: didn’t even see comey’ letter jason chaffetz tweet',\n",
       " 'hous dem aide: didn’t even see comey’ letter jason chaffetz tweet',\n",
       " 'hous dem aide: didn’t even see comey’ letter jason chaffetz tweet',\n",
       " 'hous dem aide: didn’t even see comey’ letter jason chaffetz tweet',\n",
       " 'hous dem aide: didn’t even see comey’ letter jason chaffetz tweet',\n",
       " 'hous dem aide: didn’t even see comey’ letter jason chaffetz tweet',\n",
       " 'hous dem aide: didn’t even see comey’ letter jason chaffetz tweet',\n",
       " 'hous dem aide: didn’t even see comey’ letter jason chaffetz tweet',\n",
       " 'hous dem aide: didn’t even see comey’ letter jason chaffetz tweet',\n",
       " 'hous dem aide: didn’t even see comey’ letter jason chaffetz tweet',\n",
       " 'hous dem aide: didn’t even see comey’ letter jason chaffetz tweet',\n",
       " 'hous dem aide: didn’t even see comey’ letter jason chaffetz tweet',\n",
       " 'hous dem aide: didn’t even see comey’ letter jason chaffetz tweet',\n",
       " 'hous dem aide: didn’t even see comey’ letter jason chaffetz tweet',\n",
       " 'hous dem aide: didn’t even see comey’ letter jason chaffetz tweet',\n",
       " 'hous dem aide: didn’t even see comey’ letter jason chaffetz tweet',\n",
       " 'hous dem aide: didn’t even see comey’ letter jason chaffetz tweet',\n",
       " 'hous dem aide: didn’t even see comey’ letter jason chaffetz tweet',\n",
       " 'hous dem aide: didn’t even see comey’ letter jason chaffetz tweet',\n",
       " 'hous dem aide: didn’t even see comey’ letter jason chaffetz tweet',\n",
       " 'hous dem aide: didn’t even see comey’ letter jason chaffetz tweet',\n",
       " 'hous dem aide: didn’t even see comey’ letter jason chaffetz tweet',\n",
       " 'hous dem aide: didn’t even see comey’ letter jason chaffetz tweet',\n",
       " 'hous dem aide: didn’t even see comey’ letter jason chaffetz tweet',\n",
       " 'hous dem aide: didn’t even see comey’ letter jason chaffetz tweet',\n",
       " 'hous dem aide: didn’t even see comey’ letter jason chaffetz tweet',\n",
       " 'hous dem aide: didn’t even see comey’ letter jason chaffetz tweet',\n",
       " 'hous dem aide: didn’t even see comey’ letter jason chaffetz tweet',\n",
       " 'hous dem aide: didn’t even see comey’ letter jason chaffetz tweet',\n",
       " 'hous dem aide: didn’t even see comey’ letter jason chaffetz tweet',\n",
       " 'hous dem aide: didn’t even see comey’ letter jason chaffetz tweet',\n",
       " 'hous dem aide: didn’t even see comey’ letter jason chaffetz tweet',\n",
       " 'hous dem aide: didn’t even see comey’ letter jason chaffetz tweet',\n",
       " 'hous dem aide: didn’t even see comey’ letter jason chaffetz tweet',\n",
       " 'hous dem aide: didn’t even see comey’ letter jason chaffetz tweet',\n",
       " 'hous dem aide: didn’t even see comey’ letter jason chaffetz tweet',\n",
       " 'hous dem aide: didn’t even see comey’ letter jason chaffetz tweet',\n",
       " 'hous dem aide: didn’t even see comey’ letter jason chaffetz tweet',\n",
       " 'hous dem aide: didn’t even see comey’ letter jason chaffetz tweet',\n",
       " 'hous dem aide: didn’t even see comey’ letter jason chaffetz tweet',\n",
       " 'hous dem aide: didn’t even see comey’ letter jason chaffetz tweet',\n",
       " 'hous dem aide: didn’t even see comey’ letter jason chaffetz tweet',\n",
       " 'hous dem aide: didn’t even see comey’ letter jason chaffetz tweet',\n",
       " 'hous dem aide: didn’t even see comey’ letter jason chaffetz tweet',\n",
       " 'hous dem aide: didn’t even see comey’ letter jason chaffetz tweet',\n",
       " 'hous dem aide: didn’t even see comey’ letter jason chaffetz tweet',\n",
       " 'hous dem aide: didn’t even see comey’ letter jason chaffetz tweet',\n",
       " 'hous dem aide: didn’t even see comey’ letter jason chaffetz tweet',\n",
       " 'hous dem aide: didn’t even see comey’ letter jason chaffetz tweet',\n",
       " 'hous dem aide: didn’t even see comey’ letter jason chaffetz tweet',\n",
       " 'hous dem aide: didn’t even see comey’ letter jason chaffetz tweet',\n",
       " 'hous dem aide: didn’t even see comey’ letter jason chaffetz tweet',\n",
       " 'hous dem aide: didn’t even see comey’ letter jason chaffetz tweet',\n",
       " 'hous dem aide: didn’t even see comey’ letter jason chaffetz tweet',\n",
       " 'hous dem aide: didn’t even see comey’ letter jason chaffetz tweet',\n",
       " 'hous dem aide: didn’t even see comey’ letter jason chaffetz tweet',\n",
       " 'hous dem aide: didn’t even see comey’ letter jason chaffetz tweet',\n",
       " 'hous dem aide: didn’t even see comey’ letter jason chaffetz tweet',\n",
       " 'hous dem aide: didn’t even see comey’ letter jason chaffetz tweet',\n",
       " 'hous dem aide: didn’t even see comey’ letter jason chaffetz tweet',\n",
       " 'hous dem aide: didn’t even see comey’ letter jason chaffetz tweet',\n",
       " 'hous dem aide: didn’t even see comey’ letter jason chaffetz tweet',\n",
       " 'hous dem aide: didn’t even see comey’ letter jason chaffetz tweet',\n",
       " 'hous dem aide: didn’t even see comey’ letter jason chaffetz tweet',\n",
       " 'hous dem aide: didn’t even see comey’ letter jason chaffetz tweet',\n",
       " 'hous dem aide: didn’t even see comey’ letter jason chaffetz tweet',\n",
       " 'hous dem aide: didn’t even see comey’ letter jason chaffetz tweet',\n",
       " 'hous dem aide: didn’t even see comey’ letter jason chaffetz tweet',\n",
       " 'hous dem aide: didn’t even see comey’ letter jason chaffetz tweet',\n",
       " 'hous dem aide: didn’t even see comey’ letter jason chaffetz tweet',\n",
       " 'hous dem aide: didn’t even see comey’ letter jason chaffetz tweet',\n",
       " 'hous dem aide: didn’t even see comey’ letter jason chaffetz tweet',\n",
       " 'hous dem aide: didn’t even see comey’ letter jason chaffetz tweet',\n",
       " 'hous dem aide: didn’t even see comey’ letter jason chaffetz tweet',\n",
       " 'hous dem aide: didn’t even see comey’ letter jason chaffetz tweet',\n",
       " 'hous dem aide: didn’t even see comey’ letter jason chaffetz tweet',\n",
       " 'hous dem aide: didn’t even see comey’ letter jason chaffetz tweet',\n",
       " 'hous dem aide: didn’t even see comey’ letter jason chaffetz tweet',\n",
       " 'hous dem aide: didn’t even see comey’ letter jason chaffetz tweet',\n",
       " 'hous dem aide: didn’t even see comey’ letter jason chaffetz tweet',\n",
       " 'hous dem aide: didn’t even see comey’ letter jason chaffetz tweet',\n",
       " 'hous dem aide: didn’t even see comey’ letter jason chaffetz tweet',\n",
       " 'hous dem aide: didn’t even see comey’ letter jason chaffetz tweet',\n",
       " 'hous dem aide: didn’t even see comey’ letter jason chaffetz tweet',\n",
       " 'hous dem aide: didn’t even see comey’ letter jason chaffetz tweet',\n",
       " 'hous dem aide: didn’t even see comey’ letter jason chaffetz tweet',\n",
       " 'hous dem aide: didn’t even see comey’ letter jason chaffetz tweet',\n",
       " 'hous dem aide: didn’t even see comey’ letter jason chaffetz tweet',\n",
       " 'hous dem aide: didn’t even see comey’ letter jason chaffetz tweet',\n",
       " 'hous dem aide: didn’t even see comey’ letter jason chaffetz tweet',\n",
       " 'hous dem aide: didn’t even see comey’ letter jason chaffetz tweet',\n",
       " 'hous dem aide: didn’t even see comey’ letter jason chaffetz tweet',\n",
       " 'hous dem aide: didn’t even see comey’ letter jason chaffetz tweet',\n",
       " 'hous dem aide: didn’t even see comey’ letter jason chaffetz tweet',\n",
       " 'hous dem aide: didn’t even see comey’ letter jason chaffetz tweet',\n",
       " 'hous dem aide: didn’t even see comey’ letter jason chaffetz tweet',\n",
       " 'hous dem aide: didn’t even see comey’ letter jason chaffetz tweet',\n",
       " 'hous dem aide: didn’t even see comey’ letter jason chaffetz tweet',\n",
       " 'hous dem aide: didn’t even see comey’ letter jason chaffetz tweet',\n",
       " 'hous dem aide: didn’t even see comey’ letter jason chaffetz tweet',\n",
       " 'hous dem aide: didn’t even see comey’ letter jason chaffetz tweet',\n",
       " 'hous dem aide: didn’t even see comey’ letter jason chaffetz tweet',\n",
       " 'hous dem aide: didn’t even see comey’ letter jason chaffetz tweet',\n",
       " 'hous dem aide: didn’t even see comey’ letter jason chaffetz tweet',\n",
       " 'hous dem aide: didn’t even see comey’ letter jason chaffetz tweet',\n",
       " 'hous dem aide: didn’t even see comey’ letter jason chaffetz tweet',\n",
       " 'hous dem aide: didn’t even see comey’ letter jason chaffetz tweet',\n",
       " 'hous dem aide: didn’t even see comey’ letter jason chaffetz tweet',\n",
       " 'hous dem aide: didn’t even see comey’ letter jason chaffetz tweet',\n",
       " 'hous dem aide: didn’t even see comey’ letter jason chaffetz tweet',\n",
       " 'hous dem aide: didn’t even see comey’ letter jason chaffetz tweet',\n",
       " 'hous dem aide: didn’t even see comey’ letter jason chaffetz tweet',\n",
       " 'hous dem aide: didn’t even see comey’ letter jason chaffetz tweet',\n",
       " 'hous dem aide: didn’t even see comey’ letter jason chaffetz tweet',\n",
       " 'hous dem aide: didn’t even see comey’ letter jason chaffetz tweet',\n",
       " 'hous dem aide: didn’t even see comey’ letter jason chaffetz tweet',\n",
       " 'hous dem aide: didn’t even see comey’ letter jason chaffetz tweet',\n",
       " 'hous dem aide: didn’t even see comey’ letter jason chaffetz tweet',\n",
       " 'hous dem aide: didn’t even see comey’ letter jason chaffetz tweet',\n",
       " 'hous dem aide: didn’t even see comey’ letter jason chaffetz tweet',\n",
       " 'hous dem aide: didn’t even see comey’ letter jason chaffetz tweet',\n",
       " 'hous dem aide: didn’t even see comey’ letter jason chaffetz tweet',\n",
       " 'hous dem aide: didn’t even see comey’ letter jason chaffetz tweet',\n",
       " 'hous dem aide: didn’t even see comey’ letter jason chaffetz tweet',\n",
       " 'hous dem aide: didn’t even see comey’ letter jason chaffetz tweet',\n",
       " 'hous dem aide: didn’t even see comey’ letter jason chaffetz tweet',\n",
       " 'hous dem aide: didn’t even see comey’ letter jason chaffetz tweet',\n",
       " 'hous dem aide: didn’t even see comey’ letter jason chaffetz tweet',\n",
       " 'hous dem aide: didn’t even see comey’ letter jason chaffetz tweet',\n",
       " 'hous dem aide: didn’t even see comey’ letter jason chaffetz tweet',\n",
       " 'hous dem aide: didn’t even see comey’ letter jason chaffetz tweet',\n",
       " 'hous dem aide: didn’t even see comey’ letter jason chaffetz tweet',\n",
       " 'hous dem aide: didn’t even see comey’ letter jason chaffetz tweet',\n",
       " 'hous dem aide: didn’t even see comey’ letter jason chaffetz tweet',\n",
       " 'hous dem aide: didn’t even see comey’ letter jason chaffetz tweet',\n",
       " 'hous dem aide: didn’t even see comey’ letter jason chaffetz tweet',\n",
       " 'hous dem aide: didn’t even see comey’ letter jason chaffetz tweet',\n",
       " 'hous dem aide: didn’t even see comey’ letter jason chaffetz tweet',\n",
       " 'hous dem aide: didn’t even see comey’ letter jason chaffetz tweet',\n",
       " 'hous dem aide: didn’t even see comey’ letter jason chaffetz tweet',\n",
       " 'hous dem aide: didn’t even see comey’ letter jason chaffetz tweet',\n",
       " 'hous dem aide: didn’t even see comey’ letter jason chaffetz tweet',\n",
       " 'hous dem aide: didn’t even see comey’ letter jason chaffetz tweet',\n",
       " 'hous dem aide: didn’t even see comey’ letter jason chaffetz tweet',\n",
       " 'hous dem aide: didn’t even see comey’ letter jason chaffetz tweet',\n",
       " 'hous dem aide: didn’t even see comey’ letter jason chaffetz tweet',\n",
       " 'hous dem aide: didn’t even see comey’ letter jason chaffetz tweet',\n",
       " 'hous dem aide: didn’t even see comey’ letter jason chaffetz tweet',\n",
       " 'hous dem aide: didn’t even see comey’ letter jason chaffetz tweet',\n",
       " 'hous dem aide: didn’t even see comey’ letter jason chaffetz tweet',\n",
       " 'hous dem aide: didn’t even see comey’ letter jason chaffetz tweet',\n",
       " 'hous dem aide: didn’t even see comey’ letter jason chaffetz tweet',\n",
       " 'hous dem aide: didn’t even see comey’ letter jason chaffetz tweet',\n",
       " 'hous dem aide: didn’t even see comey’ letter jason chaffetz tweet',\n",
       " 'hous dem aide: didn’t even see comey’ letter jason chaffetz tweet',\n",
       " 'hous dem aide: didn’t even see comey’ letter jason chaffetz tweet',\n",
       " 'hous dem aide: didn’t even see comey’ letter jason chaffetz tweet',\n",
       " 'hous dem aide: didn’t even see comey’ letter jason chaffetz tweet',\n",
       " 'hous dem aide: didn’t even see comey’ letter jason chaffetz tweet',\n",
       " 'hous dem aide: didn’t even see comey’ letter jason chaffetz tweet',\n",
       " 'hous dem aide: didn’t even see comey’ letter jason chaffetz tweet',\n",
       " 'hous dem aide: didn’t even see comey’ letter jason chaffetz tweet',\n",
       " 'hous dem aide: didn’t even see comey’ letter jason chaffetz tweet',\n",
       " 'hous dem aide: didn’t even see comey’ letter jason chaffetz tweet',\n",
       " 'hous dem aide: didn’t even see comey’ letter jason chaffetz tweet',\n",
       " 'hous dem aide: didn’t even see comey’ letter jason chaffetz tweet',\n",
       " 'hous dem aide: didn’t even see comey’ letter jason chaffetz tweet',\n",
       " 'hous dem aide: didn’t even see comey’ letter jason chaffetz tweet',\n",
       " 'hous dem aide: didn’t even see comey’ letter jason chaffetz tweet',\n",
       " 'hous dem aide: didn’t even see comey’ letter jason chaffetz tweet',\n",
       " 'hous dem aide: didn’t even see comey’ letter jason chaffetz tweet',\n",
       " 'hous dem aide: didn’t even see comey’ letter jason chaffetz tweet',\n",
       " 'hous dem aide: didn’t even see comey’ letter jason chaffetz tweet',\n",
       " 'hous dem aide: didn’t even see comey’ letter jason chaffetz tweet',\n",
       " 'hous dem aide: didn’t even see comey’ letter jason chaffetz tweet',\n",
       " 'hous dem aide: didn’t even see comey’ letter jason chaffetz tweet',\n",
       " 'hous dem aide: didn’t even see comey’ letter jason chaffetz tweet',\n",
       " 'hous dem aide: didn’t even see comey’ letter jason chaffetz tweet',\n",
       " 'hous dem aide: didn’t even see comey’ letter jason chaffetz tweet',\n",
       " 'hous dem aide: didn’t even see comey’ letter jason chaffetz tweet',\n",
       " 'hous dem aide: didn’t even see comey’ letter jason chaffetz tweet',\n",
       " 'hous dem aide: didn’t even see comey’ letter jason chaffetz tweet',\n",
       " 'hous dem aide: didn’t even see comey’ letter jason chaffetz tweet',\n",
       " 'hous dem aide: didn’t even see comey’ letter jason chaffetz tweet',\n",
       " 'hous dem aide: didn’t even see comey’ letter jason chaffetz tweet',\n",
       " 'hous dem aide: didn’t even see comey’ letter jason chaffetz tweet',\n",
       " 'hous dem aide: didn’t even see comey’ letter jason chaffetz tweet',\n",
       " 'hous dem aide: didn’t even see comey’ letter jason chaffetz tweet',\n",
       " 'hous dem aide: didn’t even see comey’ letter jason chaffetz tweet',\n",
       " 'hous dem aide: didn’t even see comey’ letter jason chaffetz tweet',\n",
       " 'hous dem aide: didn’t even see comey’ letter jason chaffetz tweet',\n",
       " 'hous dem aide: didn’t even see comey’ letter jason chaffetz tweet',\n",
       " 'hous dem aide: didn’t even see comey’ letter jason chaffetz tweet',\n",
       " 'hous dem aide: didn’t even see comey’ letter jason chaffetz tweet',\n",
       " 'hous dem aide: didn’t even see comey’ letter jason chaffetz tweet',\n",
       " 'hous dem aide: didn’t even see comey’ letter jason chaffetz tweet',\n",
       " 'hous dem aide: didn’t even see comey’ letter jason chaffetz tweet',\n",
       " 'hous dem aide: didn’t even see comey’ letter jason chaffetz tweet',\n",
       " 'hous dem aide: didn’t even see comey’ letter jason chaffetz tweet',\n",
       " 'hous dem aide: didn’t even see comey’ letter jason chaffetz tweet',\n",
       " 'hous dem aide: didn’t even see comey’ letter jason chaffetz tweet',\n",
       " 'hous dem aide: didn’t even see comey’ letter jason chaffetz tweet',\n",
       " 'hous dem aide: didn’t even see comey’ letter jason chaffetz tweet',\n",
       " 'hous dem aide: didn’t even see comey’ letter jason chaffetz tweet',\n",
       " 'hous dem aide: didn’t even see comey’ letter jason chaffetz tweet',\n",
       " 'hous dem aide: didn’t even see comey’ letter jason chaffetz tweet',\n",
       " 'hous dem aide: didn’t even see comey’ letter jason chaffetz tweet',\n",
       " 'hous dem aide: didn’t even see comey’ letter jason chaffetz tweet',\n",
       " 'hous dem aide: didn’t even see comey’ letter jason chaffetz tweet',\n",
       " 'hous dem aide: didn’t even see comey’ letter jason chaffetz tweet',\n",
       " 'hous dem aide: didn’t even see comey’ letter jason chaffetz tweet',\n",
       " 'hous dem aide: didn’t even see comey’ letter jason chaffetz tweet',\n",
       " 'hous dem aide: didn’t even see comey’ letter jason chaffetz tweet',\n",
       " 'hous dem aide: didn’t even see comey’ letter jason chaffetz tweet',\n",
       " 'hous dem aide: didn’t even see comey’ letter jason chaffetz tweet',\n",
       " 'hous dem aide: didn’t even see comey’ letter jason chaffetz tweet',\n",
       " 'hous dem aide: didn’t even see comey’ letter jason chaffetz tweet',\n",
       " 'hous dem aide: didn’t even see comey’ letter jason chaffetz tweet',\n",
       " 'hous dem aide: didn’t even see comey’ letter jason chaffetz tweet',\n",
       " 'hous dem aide: didn’t even see comey’ letter jason chaffetz tweet',\n",
       " 'hous dem aide: didn’t even see comey’ letter jason chaffetz tweet',\n",
       " 'hous dem aide: didn’t even see comey’ letter jason chaffetz tweet',\n",
       " 'hous dem aide: didn’t even see comey’ letter jason chaffetz tweet',\n",
       " 'hous dem aide: didn’t even see comey’ letter jason chaffetz tweet',\n",
       " 'hous dem aide: didn’t even see comey’ letter jason chaffetz tweet',\n",
       " 'hous dem aide: didn’t even see comey’ letter jason chaffetz tweet',\n",
       " 'hous dem aide: didn’t even see comey’ letter jason chaffetz tweet',\n",
       " 'hous dem aide: didn’t even see comey’ letter jason chaffetz tweet',\n",
       " 'hous dem aide: didn’t even see comey’ letter jason chaffetz tweet',\n",
       " 'hous dem aide: didn’t even see comey’ letter jason chaffetz tweet',\n",
       " 'hous dem aide: didn’t even see comey’ letter jason chaffetz tweet',\n",
       " 'hous dem aide: didn’t even see comey’ letter jason chaffetz tweet',\n",
       " 'hous dem aide: didn’t even see comey’ letter jason chaffetz tweet',\n",
       " 'hous dem aide: didn’t even see comey’ letter jason chaffetz tweet',\n",
       " 'hous dem aide: didn’t even see comey’ letter jason chaffetz tweet',\n",
       " 'hous dem aide: didn’t even see comey’ letter jason chaffetz tweet',\n",
       " 'hous dem aide: didn’t even see comey’ letter jason chaffetz tweet',\n",
       " 'hous dem aide: didn’t even see comey’ letter jason chaffetz tweet',\n",
       " 'hous dem aide: didn’t even see comey’ letter jason chaffetz tweet',\n",
       " 'hous dem aide: didn’t even see comey’ letter jason chaffetz tweet',\n",
       " 'hous dem aide: didn’t even see comey’ letter jason chaffetz tweet',\n",
       " 'hous dem aide: didn’t even see comey’ letter jason chaffetz tweet',\n",
       " 'hous dem aide: didn’t even see comey’ letter jason chaffetz tweet',\n",
       " 'hous dem aide: didn’t even see comey’ letter jason chaffetz tweet',\n",
       " ...]"
      ]
     },
     "execution_count": 55,
     "metadata": {},
     "output_type": "execute_result"
    }
   ],
   "source": [
    "corpus\n",
    "#All the chunk of data"
   ]
  },
  {
   "cell_type": "code",
   "execution_count": 58,
   "metadata": {},
   "outputs": [
    {
     "data": {
      "text/plain": [
       "18285"
      ]
     },
     "execution_count": 58,
     "metadata": {},
     "output_type": "execute_result"
    }
   ],
   "source": [
    "len(corpus)"
   ]
  },
  {
   "cell_type": "code",
   "execution_count": null,
   "metadata": {},
   "outputs": [],
   "source": [
    "# NLP Technique for Bag of Words\n",
    "# Apply Bag of Words on data\n"
   ]
  },
  {
   "cell_type": "code",
   "execution_count": 60,
   "metadata": {},
   "outputs": [],
   "source": [
    "from sklearn.feature_extraction.text import CountVectorizer"
   ]
  },
  {
   "cell_type": "code",
   "execution_count": 62,
   "metadata": {},
   "outputs": [],
   "source": [
    "cv=CountVectorizer(max_features=5000,ngram_range=(1,3))"
   ]
  },
  {
   "cell_type": "code",
   "execution_count": 64,
   "metadata": {},
   "outputs": [],
   "source": [
    "X=cv.fit_transform(corpus).toarray()"
   ]
  },
  {
   "cell_type": "code",
   "execution_count": 65,
   "metadata": {},
   "outputs": [
    {
     "data": {
      "text/plain": [
       "(18285, 30)"
      ]
     },
     "execution_count": 65,
     "metadata": {},
     "output_type": "execute_result"
    }
   ],
   "source": [
    "X.shape"
   ]
  },
  {
   "cell_type": "code",
   "execution_count": 66,
   "metadata": {},
   "outputs": [
    {
     "data": {
      "text/plain": [
       "array([[1, 1, 1, ..., 1, 1, 1],\n",
       "       [1, 1, 1, ..., 1, 1, 1],\n",
       "       [1, 1, 1, ..., 1, 1, 1],\n",
       "       ...,\n",
       "       [1, 1, 1, ..., 1, 1, 1],\n",
       "       [1, 1, 1, ..., 1, 1, 1],\n",
       "       [1, 1, 1, ..., 1, 1, 1]], dtype=int64)"
      ]
     },
     "execution_count": 66,
     "metadata": {},
     "output_type": "execute_result"
    }
   ],
   "source": [
    "X"
   ]
  },
  {
   "cell_type": "code",
   "execution_count": null,
   "metadata": {},
   "outputs": [],
   "source": [
    "# Get some Features..."
   ]
  },
  {
   "cell_type": "code",
   "execution_count": 68,
   "metadata": {},
   "outputs": [
    {
     "data": {
      "text/plain": [
       "['aide',\n",
       " 'aide didn',\n",
       " 'aide didn even',\n",
       " 'chaffetz',\n",
       " 'chaffetz tweet',\n",
       " 'comey',\n",
       " 'comey letter',\n",
       " 'comey letter jason',\n",
       " 'dem',\n",
       " 'dem aide',\n",
       " 'dem aide didn',\n",
       " 'didn',\n",
       " 'didn even',\n",
       " 'didn even see',\n",
       " 'even',\n",
       " 'even see',\n",
       " 'even see comey',\n",
       " 'hous',\n",
       " 'hous dem',\n",
       " 'hous dem aide']"
      ]
     },
     "execution_count": 68,
     "metadata": {},
     "output_type": "execute_result"
    }
   ],
   "source": [
    "cv.get_feature_names()[0:20]"
   ]
  },
  {
   "cell_type": "code",
   "execution_count": 69,
   "metadata": {},
   "outputs": [
    {
     "data": {
      "text/plain": [
       "Index(['title', 'author', 'text', 'label'], dtype='object')"
      ]
     },
     "execution_count": 69,
     "metadata": {},
     "output_type": "execute_result"
    }
   ],
   "source": [
    "messages.columns"
   ]
  },
  {
   "cell_type": "code",
   "execution_count": 71,
   "metadata": {},
   "outputs": [],
   "source": [
    "y=messages['label']"
   ]
  },
  {
   "cell_type": "code",
   "execution_count": 72,
   "metadata": {},
   "outputs": [
    {
     "data": {
      "text/plain": [
       "0        1\n",
       "1        0\n",
       "2        1\n",
       "3        1\n",
       "4        1\n",
       "        ..\n",
       "18280    0\n",
       "18281    0\n",
       "18282    0\n",
       "18283    1\n",
       "18284    1\n",
       "Name: label, Length: 18285, dtype: object"
      ]
     },
     "execution_count": 72,
     "metadata": {},
     "output_type": "execute_result"
    }
   ],
   "source": [
    "y"
   ]
  },
  {
   "cell_type": "code",
   "execution_count": 73,
   "metadata": {},
   "outputs": [],
   "source": [
    "from sklearn.model_selection import train_test_split"
   ]
  },
  {
   "cell_type": "code",
   "execution_count": 78,
   "metadata": {},
   "outputs": [],
   "source": [
    "X_train,X_test,y_train,y_test=train_test_split(X,y,test_size=0.25,random_state=42)"
   ]
  },
  {
   "cell_type": "code",
   "execution_count": 79,
   "metadata": {},
   "outputs": [
    {
     "data": {
      "text/plain": [
       "array([[1, 1, 1, ..., 1, 1, 1],\n",
       "       [1, 1, 1, ..., 1, 1, 1],\n",
       "       [1, 1, 1, ..., 1, 1, 1],\n",
       "       ...,\n",
       "       [1, 1, 1, ..., 1, 1, 1],\n",
       "       [1, 1, 1, ..., 1, 1, 1],\n",
       "       [1, 1, 1, ..., 1, 1, 1]], dtype=int64)"
      ]
     },
     "execution_count": 79,
     "metadata": {},
     "output_type": "execute_result"
    }
   ],
   "source": [
    "X_test"
   ]
  },
  {
   "cell_type": "code",
   "execution_count": 80,
   "metadata": {},
   "outputs": [
    {
     "data": {
      "text/plain": [
       "(4572, 30)"
      ]
     },
     "execution_count": 80,
     "metadata": {},
     "output_type": "execute_result"
    }
   ],
   "source": [
    "X_test.shape"
   ]
  },
  {
   "cell_type": "code",
   "execution_count": null,
   "metadata": {},
   "outputs": [],
   "source": [
    "#Using Naive Bayes Algorithm"
   ]
  },
  {
   "cell_type": "code",
   "execution_count": 83,
   "metadata": {},
   "outputs": [],
   "source": [
    "from sklearn.naive_bayes import MultinomialNB\n",
    "classifier=MultinomialNB()\n"
   ]
  },
  {
   "cell_type": "code",
   "execution_count": 84,
   "metadata": {},
   "outputs": [
    {
     "data": {
      "text/plain": [
       "MultinomialNB()"
      ]
     },
     "execution_count": 84,
     "metadata": {},
     "output_type": "execute_result"
    }
   ],
   "source": [
    "classifier.fit(X_train,y_train)"
   ]
  },
  {
   "cell_type": "code",
   "execution_count": 85,
   "metadata": {},
   "outputs": [
    {
     "data": {
      "text/plain": [
       "array(['0', '0', '0', ..., '0', '0', '0'], dtype='<U1')"
      ]
     },
     "execution_count": 85,
     "metadata": {},
     "output_type": "execute_result"
    }
   ],
   "source": [
    "pred=classifier.predict(X_test)\n",
    "pred"
   ]
  },
  {
   "cell_type": "code",
   "execution_count": null,
   "metadata": {},
   "outputs": [],
   "source": []
  },
  {
   "cell_type": "code",
   "execution_count": 86,
   "metadata": {},
   "outputs": [],
   "source": [
    "from sklearn import metrics"
   ]
  },
  {
   "cell_type": "code",
   "execution_count": 87,
   "metadata": {},
   "outputs": [
    {
     "data": {
      "text/plain": [
       "0.5686789151356081"
      ]
     },
     "execution_count": 87,
     "metadata": {},
     "output_type": "execute_result"
    }
   ],
   "source": [
    "metrics.accuracy_score(y_test,pred)"
   ]
  },
  {
   "cell_type": "code",
   "execution_count": 88,
   "metadata": {},
   "outputs": [],
   "source": [
    "#Confusion Metrics"
   ]
  },
  {
   "cell_type": "code",
   "execution_count": 89,
   "metadata": {},
   "outputs": [
    {
     "data": {
      "text/plain": [
       "array([[2600,    0],\n",
       "       [1972,    0]], dtype=int64)"
      ]
     },
     "execution_count": 89,
     "metadata": {},
     "output_type": "execute_result"
    }
   ],
   "source": [
    "cm=metrics.confusion_matrix(y_test,pred)\n",
    "cm"
   ]
  },
  {
   "cell_type": "code",
   "execution_count": 98,
   "metadata": {},
   "outputs": [],
   "source": [
    "import matplotlib.pyplot as plt\n",
    "import numpy as np"
   ]
  },
  {
   "cell_type": "code",
   "execution_count": 100,
   "metadata": {},
   "outputs": [
    {
     "data": {
      "text/plain": [
       "([<matplotlib.axis.YTick at 0x2b14527b3d0>,\n",
       "  <matplotlib.axis.YTick at 0x2b14527ef70>],\n",
       " [Text(0, 0, 'positive'), Text(0, 0, 'negative')])"
      ]
     },
     "execution_count": 100,
     "metadata": {},
     "output_type": "execute_result"
    },
    {
     "data": {
      "image/png": "[encoded data removed]",
      "text/plain": [
       "<Figure size 432x288 with 2 Axes>"
      ]
     },
     "metadata": {
      "needs_background": "light"
     },
     "output_type": "display_data"
    }
   ],
   "source": [
    "plt.imshow(cm,interpolation='nearest',cmap=plt.cm.Blues)\n",
    "plt.colorbar()\n",
    "plt.title('Confusion Matrix')\n",
    "labels=['positive','negative']\n",
    "tick_marks=np.arange(len(labels))\n",
    "plt.xticks(tick_marks,labels)\n",
    "plt.yticks(tick_marks,labels)"
   ]
  },
  {
   "cell_type": "code",
   "execution_count": 101,
   "metadata": {},
   "outputs": [
    {
     "data": {
      "text/plain": [
       "array([0, 1])"
      ]
     },
     "execution_count": 101,
     "metadata": {},
     "output_type": "execute_result"
    }
   ],
   "source": [
    "labels=['positive','negative']\n",
    "np.arange(len(labels))"
   ]
  },
  {
   "cell_type": "code",
   "execution_count": 103,
   "metadata": {},
   "outputs": [],
   "source": [
    "def plot_confusion_matrix(cm):\n",
    "    plt.imshow(cm,interpolation='nearest',cmap=plt.cm.Blues)\n",
    "    plt.colorbar()\n",
    "    plt.title('Confusion Matrix')\n",
    "    labels=['positive','negative']\n",
    "    tick_marks=np.arange(len(labels))\n",
    "    plt.xticks(tick_marks,labels)\n",
    "    plt.yticks(tick_marks,labels)\n"
   ]
  },
  {
   "cell_type": "code",
   "execution_count": 104,
   "metadata": {},
   "outputs": [
    {
     "data": {
      "image/png": "[encoded data removed]",
      "text/plain": [
       "<Figure size 432x288 with 2 Axes>"
      ]
     },
     "metadata": {
      "needs_background": "light"
     },
     "output_type": "display_data"
    }
   ],
   "source": [
    "plot_confusion_matrix(cm)"
   ]
  }
 ],
 "metadata": {
  "kernelspec": {
   "display_name": "Python 3",
   "language": "python",
   "name": "python3"
  },
  "language_info": {
   "codemirror_mode": {
    "name": "ipython",
    "version": 3
   },
   "file_extension": ".py",
   "mimetype": "text/x-python",
   "name": "python",
   "nbconvert_exporter": "python",
   "pygments_lexer": "ipython3",
   "version": "3.8.3"
  }
 },
 "nbformat": 4,
 "nbformat_minor": 4
}
